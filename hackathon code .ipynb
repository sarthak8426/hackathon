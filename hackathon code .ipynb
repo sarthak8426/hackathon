{
 "cells": [
  {
   "cell_type": "markdown",
   "id": "9df7cdb7",
   "metadata": {},
   "source": [
    "# Importing Libraries"
   ]
  },
  {
   "cell_type": "code",
   "execution_count": 1,
   "id": "9fc7f0b7",
   "metadata": {},
   "outputs": [],
   "source": [
    "import pandas as pd\n",
    "import numpy as np\n",
    "import matplotlib.pyplot as plt\n",
    "import seaborn as sns\n",
    "%matplotlib inline\n",
    "import warnings\n",
    "warnings.filterwarnings(\"ignore\")\n",
    "sns.set()\n",
    "from sklearn import preprocessing \n",
    "from sklearn.linear_model import LinearRegression\n",
    "from sklearn.metrics import precision_recall_fscore_support\n",
    "from scipy.stats import shapiro\n",
    "from sklearn.model_selection import train_test_split"
   ]
  },
  {
   "cell_type": "markdown",
   "id": "98e351d0",
   "metadata": {},
   "source": [
    "## Reading Train Dataset"
   ]
  },
  {
   "cell_type": "code",
   "execution_count": 2,
   "id": "5ac9876f",
   "metadata": {},
   "outputs": [],
   "source": [
    "df2=pd.read_csv(\"Test.csv\")"
   ]
  },
  {
   "cell_type": "code",
   "execution_count": 3,
   "id": "6365183e",
   "metadata": {},
   "outputs": [],
   "source": [
    "df=pd.read_csv(\"Train.csv\")"
   ]
  },
  {
   "cell_type": "code",
   "execution_count": 4,
   "id": "6b463b37",
   "metadata": {},
   "outputs": [
    {
     "data": {
      "text/html": [
       "<div>\n",
       "<style scoped>\n",
       "    .dataframe tbody tr th:only-of-type {\n",
       "        vertical-align: middle;\n",
       "    }\n",
       "\n",
       "    .dataframe tbody tr th {\n",
       "        vertical-align: top;\n",
       "    }\n",
       "\n",
       "    .dataframe thead th {\n",
       "        text-align: right;\n",
       "    }\n",
       "</style>\n",
       "<table border=\"1\" class=\"dataframe\">\n",
       "  <thead>\n",
       "    <tr style=\"text-align: right;\">\n",
       "      <th></th>\n",
       "      <th>Name</th>\n",
       "      <th>Platform</th>\n",
       "      <th>Year_of_Release</th>\n",
       "      <th>Genre</th>\n",
       "      <th>Publisher</th>\n",
       "      <th>NA_Sales</th>\n",
       "      <th>EU_Sales</th>\n",
       "      <th>JP_Sales</th>\n",
       "      <th>Critic_Score</th>\n",
       "      <th>Critic_Count</th>\n",
       "      <th>User_Score</th>\n",
       "      <th>User_Count</th>\n",
       "      <th>Developer</th>\n",
       "      <th>Rating</th>\n",
       "      <th>Global_Sales</th>\n",
       "    </tr>\n",
       "  </thead>\n",
       "  <tbody>\n",
       "    <tr>\n",
       "      <th>13040</th>\n",
       "      <td>Daito Giken Koushiki Pachi-Slot Simulator: Hih...</td>\n",
       "      <td>PSP</td>\n",
       "      <td>2011.0</td>\n",
       "      <td>Misc</td>\n",
       "      <td>Paon</td>\n",
       "      <td>0.00</td>\n",
       "      <td>0.00</td>\n",
       "      <td>0.02</td>\n",
       "      <td>NaN</td>\n",
       "      <td>NaN</td>\n",
       "      <td>NaN</td>\n",
       "      <td>NaN</td>\n",
       "      <td>NaN</td>\n",
       "      <td>NaN</td>\n",
       "      <td>0.02</td>\n",
       "    </tr>\n",
       "    <tr>\n",
       "      <th>3822</th>\n",
       "      <td>F.E.A.R. 2: Project Origin</td>\n",
       "      <td>X360</td>\n",
       "      <td>2009.0</td>\n",
       "      <td>Shooter</td>\n",
       "      <td>Warner Bros. Interactive Entertainment</td>\n",
       "      <td>0.32</td>\n",
       "      <td>0.15</td>\n",
       "      <td>0.00</td>\n",
       "      <td>77.0</td>\n",
       "      <td>68.0</td>\n",
       "      <td>8</td>\n",
       "      <td>114.0</td>\n",
       "      <td>Monolith Productions</td>\n",
       "      <td>M</td>\n",
       "      <td>0.52</td>\n",
       "    </tr>\n",
       "    <tr>\n",
       "      <th>3581</th>\n",
       "      <td>Need for Speed: Most Wanted</td>\n",
       "      <td>GC</td>\n",
       "      <td>2005.0</td>\n",
       "      <td>Racing</td>\n",
       "      <td>Electronic Arts</td>\n",
       "      <td>0.43</td>\n",
       "      <td>0.11</td>\n",
       "      <td>0.00</td>\n",
       "      <td>80.0</td>\n",
       "      <td>18.0</td>\n",
       "      <td>9.1</td>\n",
       "      <td>22.0</td>\n",
       "      <td>EA Canada</td>\n",
       "      <td>T</td>\n",
       "      <td>0.56</td>\n",
       "    </tr>\n",
       "    <tr>\n",
       "      <th>3184</th>\n",
       "      <td>Taiko no Tatsujin: Chibi Dragon to Fushigi na Orb</td>\n",
       "      <td>3DS</td>\n",
       "      <td>2012.0</td>\n",
       "      <td>Misc</td>\n",
       "      <td>Namco Bandai Games</td>\n",
       "      <td>0.00</td>\n",
       "      <td>0.00</td>\n",
       "      <td>0.63</td>\n",
       "      <td>NaN</td>\n",
       "      <td>NaN</td>\n",
       "      <td>NaN</td>\n",
       "      <td>NaN</td>\n",
       "      <td>NaN</td>\n",
       "      <td>NaN</td>\n",
       "      <td>0.63</td>\n",
       "    </tr>\n",
       "    <tr>\n",
       "      <th>6314</th>\n",
       "      <td>NHL 07</td>\n",
       "      <td>X360</td>\n",
       "      <td>2006.0</td>\n",
       "      <td>Sports</td>\n",
       "      <td>Electronic Arts</td>\n",
       "      <td>0.25</td>\n",
       "      <td>0.00</td>\n",
       "      <td>0.00</td>\n",
       "      <td>79.0</td>\n",
       "      <td>49.0</td>\n",
       "      <td>5.3</td>\n",
       "      <td>167.0</td>\n",
       "      <td>EA Sports</td>\n",
       "      <td>E10+</td>\n",
       "      <td>0.27</td>\n",
       "    </tr>\n",
       "    <tr>\n",
       "      <th>13523</th>\n",
       "      <td>Bakumatsu Rock: Ultra Soul</td>\n",
       "      <td>PSV</td>\n",
       "      <td>2014.0</td>\n",
       "      <td>Misc</td>\n",
       "      <td>Marvelous Interactive</td>\n",
       "      <td>0.00</td>\n",
       "      <td>0.00</td>\n",
       "      <td>0.02</td>\n",
       "      <td>NaN</td>\n",
       "      <td>NaN</td>\n",
       "      <td>NaN</td>\n",
       "      <td>NaN</td>\n",
       "      <td>NaN</td>\n",
       "      <td>NaN</td>\n",
       "      <td>0.02</td>\n",
       "    </tr>\n",
       "  </tbody>\n",
       "</table>\n",
       "</div>"
      ],
      "text/plain": [
       "                                                    Name Platform  \\\n",
       "13040  Daito Giken Koushiki Pachi-Slot Simulator: Hih...      PSP   \n",
       "3822                          F.E.A.R. 2: Project Origin     X360   \n",
       "3581                         Need for Speed: Most Wanted       GC   \n",
       "3184   Taiko no Tatsujin: Chibi Dragon to Fushigi na Orb      3DS   \n",
       "6314                                              NHL 07     X360   \n",
       "13523                         Bakumatsu Rock: Ultra Soul      PSV   \n",
       "\n",
       "       Year_of_Release    Genre                               Publisher  \\\n",
       "13040           2011.0     Misc                                    Paon   \n",
       "3822            2009.0  Shooter  Warner Bros. Interactive Entertainment   \n",
       "3581            2005.0   Racing                         Electronic Arts   \n",
       "3184            2012.0     Misc                      Namco Bandai Games   \n",
       "6314            2006.0   Sports                         Electronic Arts   \n",
       "13523           2014.0     Misc                   Marvelous Interactive   \n",
       "\n",
       "       NA_Sales  EU_Sales  JP_Sales  Critic_Score  Critic_Count User_Score  \\\n",
       "13040      0.00      0.00      0.02           NaN           NaN        NaN   \n",
       "3822       0.32      0.15      0.00          77.0          68.0          8   \n",
       "3581       0.43      0.11      0.00          80.0          18.0        9.1   \n",
       "3184       0.00      0.00      0.63           NaN           NaN        NaN   \n",
       "6314       0.25      0.00      0.00          79.0          49.0        5.3   \n",
       "13523      0.00      0.00      0.02           NaN           NaN        NaN   \n",
       "\n",
       "       User_Count             Developer Rating  Global_Sales  \n",
       "13040         NaN                   NaN    NaN          0.02  \n",
       "3822        114.0  Monolith Productions      M          0.52  \n",
       "3581         22.0             EA Canada      T          0.56  \n",
       "3184          NaN                   NaN    NaN          0.63  \n",
       "6314        167.0             EA Sports   E10+          0.27  \n",
       "13523         NaN                   NaN    NaN          0.02  "
      ]
     },
     "execution_count": 4,
     "metadata": {},
     "output_type": "execute_result"
    }
   ],
   "source": [
    "df.sample(6)"
   ]
  },
  {
   "cell_type": "markdown",
   "id": "8c1bbbc5",
   "metadata": {},
   "source": [
    "## Train Dataset EDA(exploratory data analysis)"
   ]
  },
  {
   "cell_type": "code",
   "execution_count": 5,
   "id": "1db28e4a",
   "metadata": {},
   "outputs": [
    {
     "name": "stdout",
     "output_type": "stream",
     "text": [
      "<class 'pandas.core.frame.DataFrame'>\n",
      "RangeIndex: 14576 entries, 0 to 14575\n",
      "Data columns (total 15 columns):\n",
      " #   Column           Non-Null Count  Dtype  \n",
      "---  ------           --------------  -----  \n",
      " 0   Name             14574 non-null  object \n",
      " 1   Platform         14576 non-null  object \n",
      " 2   Year_of_Release  14344 non-null  float64\n",
      " 3   Genre            14574 non-null  object \n",
      " 4   Publisher        14527 non-null  object \n",
      " 5   NA_Sales         14576 non-null  float64\n",
      " 6   EU_Sales         14576 non-null  float64\n",
      " 7   JP_Sales         14576 non-null  float64\n",
      " 8   Critic_Score     7217 non-null   float64\n",
      " 9   Critic_Count     7217 non-null   float64\n",
      " 10  User_Score       8760 non-null   object \n",
      " 11  User_Count       6796 non-null   float64\n",
      " 12  Developer        8829 non-null   object \n",
      " 13  Rating           8704 non-null   object \n",
      " 14  Global_Sales     14576 non-null  float64\n",
      "dtypes: float64(8), object(7)\n",
      "memory usage: 1.7+ MB\n"
     ]
    }
   ],
   "source": [
    "df.info()"
   ]
  },
  {
   "cell_type": "markdown",
   "id": "46ff1a81",
   "metadata": {},
   "source": [
    "## Changing the User_Score Dtype Object into Float  "
   ]
  },
  {
   "cell_type": "code",
   "execution_count": 6,
   "id": "d885569d",
   "metadata": {},
   "outputs": [
    {
     "data": {
      "text/plain": [
       "array(['8', nan, '8.3', '8.5', '6.6', '8.4', '8.6', '7.7', '6.3', '7.4',\n",
       "       '8.2', '9', '7.9', '8.1', '8.7', '7.1', '3.4', '5.3', '4.8', '3.2',\n",
       "       '8.9', '6.4', '7.8', '7.5', '2.6', '7.2', '9.2', '7', '7.3', '4.3',\n",
       "       '7.6', '5.7', '5', '9.1', '6.5', 'tbd', '8.8', '6.9', '9.4', '6.8',\n",
       "       '6.1', '6.7', '5.4', '4', '4.9', '4.5', '9.3', '6.2', '4.2', '6',\n",
       "       '3.7', '4.1', '5.8', '5.6', '5.5', '4.4', '4.6', '5.9', '3.9',\n",
       "       '3.1', '2.9', '5.2', '3.3', '4.7', '5.1', '3.5', '2.5', '1.9', '3',\n",
       "       '2.7', '2.2', '2', '9.5', '2.1', '3.6', '2.8', '1.8', '3.8', '0',\n",
       "       '1.6', '9.6', '2.4', '1.7', '1.1', '0.3', '1.5', '0.7', '1.2',\n",
       "       '2.3', '0.5', '0.6', '1.4', '0.9', '1', '1.3', '0.2', '9.7'],\n",
       "      dtype=object)"
      ]
     },
     "execution_count": 6,
     "metadata": {},
     "output_type": "execute_result"
    }
   ],
   "source": [
    "df[\"User_Score\"].unique()"
   ]
  },
  {
   "cell_type": "code",
   "execution_count": 7,
   "id": "a7f03596",
   "metadata": {},
   "outputs": [],
   "source": [
    "df[\"User_Score\"]=np.where(df[\"User_Score\"]==\"tbd\",0, df[\"User_Score\"])"
   ]
  },
  {
   "cell_type": "code",
   "execution_count": 8,
   "id": "33fb9fe0",
   "metadata": {},
   "outputs": [],
   "source": [
    "df[\"User_Score\"]=df[\"User_Score\"].astype(float)"
   ]
  },
  {
   "cell_type": "code",
   "execution_count": 9,
   "id": "751fba38",
   "metadata": {},
   "outputs": [
    {
     "data": {
      "text/plain": [
       "dtype('float64')"
      ]
     },
     "execution_count": 9,
     "metadata": {},
     "output_type": "execute_result"
    }
   ],
   "source": [
    "df[\"User_Score\"].dtypes"
   ]
  },
  {
   "cell_type": "markdown",
   "id": "59a30d5d",
   "metadata": {},
   "source": [
    "## checking for duplicate in data set"
   ]
  },
  {
   "cell_type": "code",
   "execution_count": 10,
   "id": "312f31a8",
   "metadata": {},
   "outputs": [
    {
     "data": {
      "text/plain": [
       "0"
      ]
     },
     "execution_count": 10,
     "metadata": {},
     "output_type": "execute_result"
    }
   ],
   "source": [
    "df.duplicated().sum()"
   ]
  },
  {
   "cell_type": "markdown",
   "id": "7f363c06",
   "metadata": {},
   "source": [
    "## Checking for null values"
   ]
  },
  {
   "cell_type": "code",
   "execution_count": 11,
   "id": "7fd77323",
   "metadata": {},
   "outputs": [
    {
     "data": {
      "text/plain": [
       "Name                  2\n",
       "Platform              0\n",
       "Year_of_Release     232\n",
       "Genre                 2\n",
       "Publisher            49\n",
       "NA_Sales              0\n",
       "EU_Sales              0\n",
       "JP_Sales              0\n",
       "Critic_Score       7359\n",
       "Critic_Count       7359\n",
       "User_Score         5816\n",
       "User_Count         7780\n",
       "Developer          5747\n",
       "Rating             5872\n",
       "Global_Sales          0\n",
       "dtype: int64"
      ]
     },
     "execution_count": 11,
     "metadata": {},
     "output_type": "execute_result"
    }
   ],
   "source": [
    "df.isna().sum()"
   ]
  },
  {
   "cell_type": "markdown",
   "id": "24c8d666",
   "metadata": {},
   "source": [
    "## Treatment of null values"
   ]
  },
  {
   "cell_type": "code",
   "execution_count": 12,
   "id": "3829f575",
   "metadata": {},
   "outputs": [],
   "source": [
    "df[\"Name\"].fillna(\"Need for Speed: Most Wanted\", inplace = True)\n",
    "df[\"Year_of_Release\"].fillna(\"2009.0\", inplace = True)\n",
    "df[\"Genre\"].fillna(\"Racing\", inplace = True)\n",
    "df[\"Publisher\"].fillna(\"Electronic Arts\", inplace = True)\n",
    "df[\"Critic_Score\"].fillna(69.67, inplace = True)\n",
    "df[\"Critic_Count\"].fillna(27.30, inplace = True)\n",
    "df[\"User_Count\"].fillna(172.51, inplace = True)\n",
    "df[\"Developer\"].fillna(\"Ubisoft\", inplace = True)\n",
    "df[\"Rating\"].fillna(\"E\", inplace = True)\n",
    "df[\"User_Score\"].fillna(7.15, inplace =True)"
   ]
  },
  {
   "cell_type": "markdown",
   "id": "0eda87c0",
   "metadata": {},
   "source": [
    "## Null values after treatment"
   ]
  },
  {
   "cell_type": "code",
   "execution_count": 13,
   "id": "97b28eaf",
   "metadata": {},
   "outputs": [
    {
     "data": {
      "text/plain": [
       "Name               0\n",
       "Platform           0\n",
       "Year_of_Release    0\n",
       "Genre              0\n",
       "Publisher          0\n",
       "NA_Sales           0\n",
       "EU_Sales           0\n",
       "JP_Sales           0\n",
       "Critic_Score       0\n",
       "Critic_Count       0\n",
       "User_Score         0\n",
       "User_Count         0\n",
       "Developer          0\n",
       "Rating             0\n",
       "Global_Sales       0\n",
       "dtype: int64"
      ]
     },
     "execution_count": 13,
     "metadata": {},
     "output_type": "execute_result"
    }
   ],
   "source": [
    "df.isna().sum()"
   ]
  },
  {
   "cell_type": "code",
   "execution_count": 14,
   "id": "301fef45",
   "metadata": {},
   "outputs": [
    {
     "name": "stdout",
     "output_type": "stream",
     "text": [
      "<class 'pandas.core.frame.DataFrame'>\n",
      "RangeIndex: 14576 entries, 0 to 14575\n",
      "Data columns (total 15 columns):\n",
      " #   Column           Non-Null Count  Dtype  \n",
      "---  ------           --------------  -----  \n",
      " 0   Name             14576 non-null  object \n",
      " 1   Platform         14576 non-null  object \n",
      " 2   Year_of_Release  14576 non-null  object \n",
      " 3   Genre            14576 non-null  object \n",
      " 4   Publisher        14576 non-null  object \n",
      " 5   NA_Sales         14576 non-null  float64\n",
      " 6   EU_Sales         14576 non-null  float64\n",
      " 7   JP_Sales         14576 non-null  float64\n",
      " 8   Critic_Score     14576 non-null  float64\n",
      " 9   Critic_Count     14576 non-null  float64\n",
      " 10  User_Score       14576 non-null  float64\n",
      " 11  User_Count       14576 non-null  float64\n",
      " 12  Developer        14576 non-null  object \n",
      " 13  Rating           14576 non-null  object \n",
      " 14  Global_Sales     14576 non-null  float64\n",
      "dtypes: float64(8), object(7)\n",
      "memory usage: 1.7+ MB\n"
     ]
    }
   ],
   "source": [
    "df.info()"
   ]
  },
  {
   "cell_type": "code",
   "execution_count": 15,
   "id": "2514d7bb",
   "metadata": {},
   "outputs": [
    {
     "data": {
      "text/plain": [
       "(14576, 15)"
      ]
     },
     "execution_count": 15,
     "metadata": {},
     "output_type": "execute_result"
    }
   ],
   "source": [
    "df.shape"
   ]
  },
  {
   "cell_type": "markdown",
   "id": "17ac96a7",
   "metadata": {},
   "source": [
    "## checking for outliers"
   ]
  },
  {
   "cell_type": "code",
   "execution_count": 16,
   "id": "599940d3",
   "metadata": {},
   "outputs": [
    {
     "data": {
      "text/html": [
       "<div>\n",
       "<style scoped>\n",
       "    .dataframe tbody tr th:only-of-type {\n",
       "        vertical-align: middle;\n",
       "    }\n",
       "\n",
       "    .dataframe tbody tr th {\n",
       "        vertical-align: top;\n",
       "    }\n",
       "\n",
       "    .dataframe thead th {\n",
       "        text-align: right;\n",
       "    }\n",
       "</style>\n",
       "<table border=\"1\" class=\"dataframe\">\n",
       "  <thead>\n",
       "    <tr style=\"text-align: right;\">\n",
       "      <th></th>\n",
       "      <th>count</th>\n",
       "      <th>mean</th>\n",
       "      <th>std</th>\n",
       "      <th>min</th>\n",
       "      <th>1%</th>\n",
       "      <th>2%</th>\n",
       "      <th>3%</th>\n",
       "      <th>4%</th>\n",
       "      <th>5%</th>\n",
       "      <th>10%</th>\n",
       "      <th>...</th>\n",
       "      <th>40%</th>\n",
       "      <th>50%</th>\n",
       "      <th>75%</th>\n",
       "      <th>90%</th>\n",
       "      <th>95%</th>\n",
       "      <th>96%</th>\n",
       "      <th>97%</th>\n",
       "      <th>98%</th>\n",
       "      <th>99%</th>\n",
       "      <th>max</th>\n",
       "    </tr>\n",
       "  </thead>\n",
       "  <tbody>\n",
       "    <tr>\n",
       "      <th>NA_Sales</th>\n",
       "      <td>14576.0</td>\n",
       "      <td>0.295577</td>\n",
       "      <td>0.866491</td>\n",
       "      <td>0.00</td>\n",
       "      <td>0.00</td>\n",
       "      <td>0.00</td>\n",
       "      <td>0.00</td>\n",
       "      <td>0.00</td>\n",
       "      <td>0.00</td>\n",
       "      <td>0.00</td>\n",
       "      <td>...</td>\n",
       "      <td>0.05</td>\n",
       "      <td>0.10</td>\n",
       "      <td>0.28</td>\n",
       "      <td>0.69</td>\n",
       "      <td>1.19</td>\n",
       "      <td>1.40</td>\n",
       "      <td>1.6800</td>\n",
       "      <td>2.080</td>\n",
       "      <td>3.0100</td>\n",
       "      <td>41.36</td>\n",
       "    </tr>\n",
       "    <tr>\n",
       "      <th>EU_Sales</th>\n",
       "      <td>14576.0</td>\n",
       "      <td>0.163957</td>\n",
       "      <td>0.536354</td>\n",
       "      <td>0.00</td>\n",
       "      <td>0.00</td>\n",
       "      <td>0.00</td>\n",
       "      <td>0.00</td>\n",
       "      <td>0.00</td>\n",
       "      <td>0.00</td>\n",
       "      <td>0.00</td>\n",
       "      <td>...</td>\n",
       "      <td>0.01</td>\n",
       "      <td>0.03</td>\n",
       "      <td>0.13</td>\n",
       "      <td>0.39</td>\n",
       "      <td>0.69</td>\n",
       "      <td>0.84</td>\n",
       "      <td>1.0400</td>\n",
       "      <td>1.330</td>\n",
       "      <td>2.0550</td>\n",
       "      <td>28.96</td>\n",
       "    </tr>\n",
       "    <tr>\n",
       "      <th>JP_Sales</th>\n",
       "      <td>14576.0</td>\n",
       "      <td>0.085659</td>\n",
       "      <td>0.329646</td>\n",
       "      <td>0.00</td>\n",
       "      <td>0.00</td>\n",
       "      <td>0.00</td>\n",
       "      <td>0.00</td>\n",
       "      <td>0.00</td>\n",
       "      <td>0.00</td>\n",
       "      <td>0.00</td>\n",
       "      <td>...</td>\n",
       "      <td>0.00</td>\n",
       "      <td>0.00</td>\n",
       "      <td>0.03</td>\n",
       "      <td>0.21</td>\n",
       "      <td>0.41</td>\n",
       "      <td>0.49</td>\n",
       "      <td>0.6200</td>\n",
       "      <td>0.870</td>\n",
       "      <td>1.3625</td>\n",
       "      <td>10.22</td>\n",
       "    </tr>\n",
       "    <tr>\n",
       "      <th>Critic_Score</th>\n",
       "      <td>14576.0</td>\n",
       "      <td>69.672992</td>\n",
       "      <td>9.691363</td>\n",
       "      <td>13.00</td>\n",
       "      <td>37.00</td>\n",
       "      <td>42.00</td>\n",
       "      <td>46.00</td>\n",
       "      <td>49.00</td>\n",
       "      <td>51.00</td>\n",
       "      <td>58.00</td>\n",
       "      <td>...</td>\n",
       "      <td>69.67</td>\n",
       "      <td>69.67</td>\n",
       "      <td>71.00</td>\n",
       "      <td>82.00</td>\n",
       "      <td>86.00</td>\n",
       "      <td>87.00</td>\n",
       "      <td>88.0000</td>\n",
       "      <td>90.000</td>\n",
       "      <td>92.0000</td>\n",
       "      <td>98.00</td>\n",
       "    </tr>\n",
       "    <tr>\n",
       "      <th>Critic_Count</th>\n",
       "      <td>14576.0</td>\n",
       "      <td>27.305962</td>\n",
       "      <td>13.695582</td>\n",
       "      <td>3.00</td>\n",
       "      <td>4.00</td>\n",
       "      <td>5.00</td>\n",
       "      <td>5.00</td>\n",
       "      <td>6.00</td>\n",
       "      <td>7.00</td>\n",
       "      <td>10.00</td>\n",
       "      <td>...</td>\n",
       "      <td>27.30</td>\n",
       "      <td>27.30</td>\n",
       "      <td>27.30</td>\n",
       "      <td>42.00</td>\n",
       "      <td>55.00</td>\n",
       "      <td>59.00</td>\n",
       "      <td>64.0000</td>\n",
       "      <td>70.000</td>\n",
       "      <td>79.0000</td>\n",
       "      <td>113.00</td>\n",
       "    </tr>\n",
       "    <tr>\n",
       "      <th>User_Score</th>\n",
       "      <td>14576.0</td>\n",
       "      <td>6.187822</td>\n",
       "      <td>2.642646</td>\n",
       "      <td>0.00</td>\n",
       "      <td>0.00</td>\n",
       "      <td>0.00</td>\n",
       "      <td>0.00</td>\n",
       "      <td>0.00</td>\n",
       "      <td>0.00</td>\n",
       "      <td>0.00</td>\n",
       "      <td>...</td>\n",
       "      <td>7.15</td>\n",
       "      <td>7.15</td>\n",
       "      <td>7.40</td>\n",
       "      <td>8.30</td>\n",
       "      <td>8.70</td>\n",
       "      <td>8.80</td>\n",
       "      <td>8.8000</td>\n",
       "      <td>8.900</td>\n",
       "      <td>9.1000</td>\n",
       "      <td>9.70</td>\n",
       "    </tr>\n",
       "    <tr>\n",
       "      <th>User_Count</th>\n",
       "      <td>14576.0</td>\n",
       "      <td>172.511443</td>\n",
       "      <td>393.706337</td>\n",
       "      <td>4.00</td>\n",
       "      <td>4.00</td>\n",
       "      <td>5.00</td>\n",
       "      <td>5.00</td>\n",
       "      <td>6.00</td>\n",
       "      <td>6.00</td>\n",
       "      <td>9.00</td>\n",
       "      <td>...</td>\n",
       "      <td>172.51</td>\n",
       "      <td>172.51</td>\n",
       "      <td>172.51</td>\n",
       "      <td>172.51</td>\n",
       "      <td>310.00</td>\n",
       "      <td>431.00</td>\n",
       "      <td>594.0000</td>\n",
       "      <td>921.500</td>\n",
       "      <td>1601.0000</td>\n",
       "      <td>10665.00</td>\n",
       "    </tr>\n",
       "    <tr>\n",
       "      <th>Global_Sales</th>\n",
       "      <td>14576.0</td>\n",
       "      <td>0.598972</td>\n",
       "      <td>1.647699</td>\n",
       "      <td>0.01</td>\n",
       "      <td>0.01</td>\n",
       "      <td>0.01</td>\n",
       "      <td>0.01</td>\n",
       "      <td>0.01</td>\n",
       "      <td>0.02</td>\n",
       "      <td>0.02</td>\n",
       "      <td>...</td>\n",
       "      <td>0.15</td>\n",
       "      <td>0.22</td>\n",
       "      <td>0.55</td>\n",
       "      <td>1.34</td>\n",
       "      <td>2.22</td>\n",
       "      <td>2.62</td>\n",
       "      <td>3.1375</td>\n",
       "      <td>4.055</td>\n",
       "      <td>6.0300</td>\n",
       "      <td>82.53</td>\n",
       "    </tr>\n",
       "  </tbody>\n",
       "</table>\n",
       "<p>8 rows × 23 columns</p>\n",
       "</div>"
      ],
      "text/plain": [
       "                count        mean         std    min     1%     2%     3%  \\\n",
       "NA_Sales      14576.0    0.295577    0.866491   0.00   0.00   0.00   0.00   \n",
       "EU_Sales      14576.0    0.163957    0.536354   0.00   0.00   0.00   0.00   \n",
       "JP_Sales      14576.0    0.085659    0.329646   0.00   0.00   0.00   0.00   \n",
       "Critic_Score  14576.0   69.672992    9.691363  13.00  37.00  42.00  46.00   \n",
       "Critic_Count  14576.0   27.305962   13.695582   3.00   4.00   5.00   5.00   \n",
       "User_Score    14576.0    6.187822    2.642646   0.00   0.00   0.00   0.00   \n",
       "User_Count    14576.0  172.511443  393.706337   4.00   4.00   5.00   5.00   \n",
       "Global_Sales  14576.0    0.598972    1.647699   0.01   0.01   0.01   0.01   \n",
       "\n",
       "                 4%     5%    10%  ...     40%     50%     75%     90%  \\\n",
       "NA_Sales       0.00   0.00   0.00  ...    0.05    0.10    0.28    0.69   \n",
       "EU_Sales       0.00   0.00   0.00  ...    0.01    0.03    0.13    0.39   \n",
       "JP_Sales       0.00   0.00   0.00  ...    0.00    0.00    0.03    0.21   \n",
       "Critic_Score  49.00  51.00  58.00  ...   69.67   69.67   71.00   82.00   \n",
       "Critic_Count   6.00   7.00  10.00  ...   27.30   27.30   27.30   42.00   \n",
       "User_Score     0.00   0.00   0.00  ...    7.15    7.15    7.40    8.30   \n",
       "User_Count     6.00   6.00   9.00  ...  172.51  172.51  172.51  172.51   \n",
       "Global_Sales   0.01   0.02   0.02  ...    0.15    0.22    0.55    1.34   \n",
       "\n",
       "                 95%     96%       97%      98%        99%       max  \n",
       "NA_Sales        1.19    1.40    1.6800    2.080     3.0100     41.36  \n",
       "EU_Sales        0.69    0.84    1.0400    1.330     2.0550     28.96  \n",
       "JP_Sales        0.41    0.49    0.6200    0.870     1.3625     10.22  \n",
       "Critic_Score   86.00   87.00   88.0000   90.000    92.0000     98.00  \n",
       "Critic_Count   55.00   59.00   64.0000   70.000    79.0000    113.00  \n",
       "User_Score      8.70    8.80    8.8000    8.900     9.1000      9.70  \n",
       "User_Count    310.00  431.00  594.0000  921.500  1601.0000  10665.00  \n",
       "Global_Sales    2.22    2.62    3.1375    4.055     6.0300     82.53  \n",
       "\n",
       "[8 rows x 23 columns]"
      ]
     },
     "execution_count": 16,
     "metadata": {},
     "output_type": "execute_result"
    }
   ],
   "source": [
    "df.describe(percentiles=[0.01,0.02, .03,0.04, 0.05, 0.1, .2, .25, .3, .4, .5,.75,.9, .95,.96,.97,.98,.99]).T"
   ]
  },
  {
   "cell_type": "markdown",
   "id": "84d393e1",
   "metadata": {},
   "source": [
    "## Treatment of Outliers"
   ]
  },
  {
   "cell_type": "code",
   "execution_count": 17,
   "id": "9b492ff1",
   "metadata": {},
   "outputs": [
    {
     "data": {
      "text/plain": [
       "{'whiskers': [<matplotlib.lines.Line2D at 0x13b349d43d0>,\n",
       "  <matplotlib.lines.Line2D at 0x13b349d46a0>],\n",
       " 'caps': [<matplotlib.lines.Line2D at 0x13b349d4a30>,\n",
       "  <matplotlib.lines.Line2D at 0x13b349d4dc0>],\n",
       " 'boxes': [<matplotlib.lines.Line2D at 0x13b349d40a0>],\n",
       " 'medians': [<matplotlib.lines.Line2D at 0x13b34e69190>],\n",
       " 'fliers': [<matplotlib.lines.Line2D at 0x13b34e69520>],\n",
       " 'means': []}"
      ]
     },
     "execution_count": 17,
     "metadata": {},
     "output_type": "execute_result"
    },
    {
     "data": {
      "image/png": "[encoded data removed]",
      "text/plain": [
       "<Figure size 432x288 with 1 Axes>"
      ]
     },
     "metadata": {},
     "output_type": "display_data"
    }
   ],
   "source": [
    "plt.boxplot(df[\"NA_Sales\"])"
   ]
  },
  {
   "cell_type": "code",
   "execution_count": 18,
   "id": "15b6f012",
   "metadata": {},
   "outputs": [],
   "source": [
    "\n",
    "df[\"NA_Sales\"]=np.where(df[\"NA_Sales\"]>30, 30, df[\"NA_Sales\"])"
   ]
  },
  {
   "cell_type": "code",
   "execution_count": 19,
   "id": "26f26f17",
   "metadata": {},
   "outputs": [
    {
     "data": {
      "text/plain": [
       "{'whiskers': [<matplotlib.lines.Line2D at 0x13b35301130>,\n",
       "  <matplotlib.lines.Line2D at 0x13b353014f0>],\n",
       " 'caps': [<matplotlib.lines.Line2D at 0x13b35301880>,\n",
       "  <matplotlib.lines.Line2D at 0x13b35301c10>],\n",
       " 'boxes': [<matplotlib.lines.Line2D at 0x13b352f1d60>],\n",
       " 'medians': [<matplotlib.lines.Line2D at 0x13b35301fa0>],\n",
       " 'fliers': [<matplotlib.lines.Line2D at 0x13b35309370>],\n",
       " 'means': []}"
      ]
     },
     "execution_count": 19,
     "metadata": {},
     "output_type": "execute_result"
    },
    {
     "data": {
      "image/png": "[encoded data removed]",
      "text/plain": [
       "<Figure size 432x288 with 1 Axes>"
      ]
     },
     "metadata": {},
     "output_type": "display_data"
    }
   ],
   "source": [
    "plt.boxplot(df[\"NA_Sales\"])"
   ]
  },
  {
   "cell_type": "code",
   "execution_count": 20,
   "id": "b45d5d9b",
   "metadata": {},
   "outputs": [
    {
     "data": {
      "text/plain": [
       "{'whiskers': [<matplotlib.lines.Line2D at 0x13b353699d0>,\n",
       "  <matplotlib.lines.Line2D at 0x13b35369d60>],\n",
       " 'caps': [<matplotlib.lines.Line2D at 0x13b35377160>,\n",
       "  <matplotlib.lines.Line2D at 0x13b353774f0>],\n",
       " 'boxes': [<matplotlib.lines.Line2D at 0x13b35369640>],\n",
       " 'medians': [<matplotlib.lines.Line2D at 0x13b35377880>],\n",
       " 'fliers': [<matplotlib.lines.Line2D at 0x13b35377c10>],\n",
       " 'means': []}"
      ]
     },
     "execution_count": 20,
     "metadata": {},
     "output_type": "execute_result"
    },
    {
     "data": {
      "image/png": "[encoded data removed]",
      "text/plain": [
       "<Figure size 432x288 with 1 Axes>"
      ]
     },
     "metadata": {},
     "output_type": "display_data"
    }
   ],
   "source": [
    "plt.boxplot(df[\"EU_Sales\"])"
   ]
  },
  {
   "cell_type": "code",
   "execution_count": 21,
   "id": "10d04959",
   "metadata": {},
   "outputs": [],
   "source": [
    "df[\"EU_Sales\"]=np.where(df[\"EU_Sales\"]>15, 15, df[\"EU_Sales\"])"
   ]
  },
  {
   "cell_type": "code",
   "execution_count": 22,
   "id": "3296abe2",
   "metadata": {},
   "outputs": [
    {
     "data": {
      "text/plain": [
       "{'whiskers': [<matplotlib.lines.Line2D at 0x13b353df190>,\n",
       "  <matplotlib.lines.Line2D at 0x13b353df550>],\n",
       " 'caps': [<matplotlib.lines.Line2D at 0x13b353df8e0>,\n",
       "  <matplotlib.lines.Line2D at 0x13b353dfc70>],\n",
       " 'boxes': [<matplotlib.lines.Line2D at 0x13b353cedc0>],\n",
       " 'medians': [<matplotlib.lines.Line2D at 0x13b353ea040>],\n",
       " 'fliers': [<matplotlib.lines.Line2D at 0x13b353ea3d0>],\n",
       " 'means': []}"
      ]
     },
     "execution_count": 22,
     "metadata": {},
     "output_type": "execute_result"
    },
    {
     "data": {
      "image/png": "[encoded data removed]",
      "text/plain": [
       "<Figure size 432x288 with 1 Axes>"
      ]
     },
     "metadata": {},
     "output_type": "display_data"
    }
   ],
   "source": [
    "plt.boxplot(df[\"EU_Sales\"])"
   ]
  },
  {
   "cell_type": "code",
   "execution_count": 23,
   "id": "e6a419fc",
   "metadata": {},
   "outputs": [
    {
     "data": {
      "text/plain": [
       "{'whiskers': [<matplotlib.lines.Line2D at 0x13b35444af0>,\n",
       "  <matplotlib.lines.Line2D at 0x13b35444e80>],\n",
       " 'caps': [<matplotlib.lines.Line2D at 0x13b35451280>,\n",
       "  <matplotlib.lines.Line2D at 0x13b35451610>],\n",
       " 'boxes': [<matplotlib.lines.Line2D at 0x13b35444760>],\n",
       " 'medians': [<matplotlib.lines.Line2D at 0x13b354519a0>],\n",
       " 'fliers': [<matplotlib.lines.Line2D at 0x13b35451d30>],\n",
       " 'means': []}"
      ]
     },
     "execution_count": 23,
     "metadata": {},
     "output_type": "execute_result"
    },
    {
     "data": {
      "image/png": "[encoded data removed]",
      "text/plain": [
       "<Figure size 432x288 with 1 Axes>"
      ]
     },
     "metadata": {},
     "output_type": "display_data"
    }
   ],
   "source": [
    "plt.boxplot(df[\"JP_Sales\"])"
   ]
  },
  {
   "cell_type": "code",
   "execution_count": 24,
   "id": "fc716b79",
   "metadata": {},
   "outputs": [],
   "source": [
    "df[\"JP_Sales\"]=np.where(df[\"JP_Sales\"]>7.5,7.5, df[\"JP_Sales\"])"
   ]
  },
  {
   "cell_type": "code",
   "execution_count": 25,
   "id": "b128b8cc",
   "metadata": {},
   "outputs": [
    {
     "data": {
      "text/plain": [
       "{'whiskers': [<matplotlib.lines.Line2D at 0x13b354ab370>,\n",
       "  <matplotlib.lines.Line2D at 0x13b354ab700>],\n",
       " 'caps': [<matplotlib.lines.Line2D at 0x13b354aba90>,\n",
       "  <matplotlib.lines.Line2D at 0x13b354abe20>],\n",
       " 'boxes': [<matplotlib.lines.Line2D at 0x13b3549dfa0>],\n",
       " 'medians': [<matplotlib.lines.Line2D at 0x13b354b51f0>],\n",
       " 'fliers': [<matplotlib.lines.Line2D at 0x13b354b5580>],\n",
       " 'means': []}"
      ]
     },
     "execution_count": 25,
     "metadata": {},
     "output_type": "execute_result"
    },
    {
     "data": {
      "image/png": "[encoded data removed]",
      "text/plain": [
       "<Figure size 432x288 with 1 Axes>"
      ]
     },
     "metadata": {},
     "output_type": "display_data"
    }
   ],
   "source": [
    "plt.boxplot(df[\"JP_Sales\"])"
   ]
  },
  {
   "cell_type": "code",
   "execution_count": 26,
   "id": "b265851e",
   "metadata": {},
   "outputs": [
    {
     "data": {
      "text/plain": [
       "{'whiskers': [<matplotlib.lines.Line2D at 0x13b35518490>,\n",
       "  <matplotlib.lines.Line2D at 0x13b35518820>],\n",
       " 'caps': [<matplotlib.lines.Line2D at 0x13b35518bb0>,\n",
       "  <matplotlib.lines.Line2D at 0x13b35518f40>],\n",
       " 'boxes': [<matplotlib.lines.Line2D at 0x13b35518100>],\n",
       " 'medians': [<matplotlib.lines.Line2D at 0x13b35521310>],\n",
       " 'fliers': [<matplotlib.lines.Line2D at 0x13b35521640>],\n",
       " 'means': []}"
      ]
     },
     "execution_count": 26,
     "metadata": {},
     "output_type": "execute_result"
    },
    {
     "data": {
      "image/png": "[encoded data removed]",
      "text/plain": [
       "<Figure size 432x288 with 1 Axes>"
      ]
     },
     "metadata": {},
     "output_type": "display_data"
    }
   ],
   "source": [
    "plt.boxplot(df[\"Critic_Count\"])"
   ]
  },
  {
   "cell_type": "code",
   "execution_count": 27,
   "id": "39a48bb5",
   "metadata": {},
   "outputs": [],
   "source": [
    "df[\"Critic_Count\"]=np.where(df[\"Critic_Count\"]>110, 110, df[\"Critic_Count\"])"
   ]
  },
  {
   "cell_type": "code",
   "execution_count": 28,
   "id": "6c5e019f",
   "metadata": {},
   "outputs": [
    {
     "data": {
      "text/plain": [
       "{'whiskers': [<matplotlib.lines.Line2D at 0x13b35574d60>,\n",
       "  <matplotlib.lines.Line2D at 0x13b35583130>],\n",
       " 'caps': [<matplotlib.lines.Line2D at 0x13b355834c0>,\n",
       "  <matplotlib.lines.Line2D at 0x13b35583850>],\n",
       " 'boxes': [<matplotlib.lines.Line2D at 0x13b355749d0>],\n",
       " 'medians': [<matplotlib.lines.Line2D at 0x13b35583be0>],\n",
       " 'fliers': [<matplotlib.lines.Line2D at 0x13b35583fa0>],\n",
       " 'means': []}"
      ]
     },
     "execution_count": 28,
     "metadata": {},
     "output_type": "execute_result"
    },
    {
     "data": {
      "image/png": "[encoded data removed]",
      "text/plain": [
       "<Figure size 432x288 with 1 Axes>"
      ]
     },
     "metadata": {},
     "output_type": "display_data"
    }
   ],
   "source": [
    "plt.boxplot(df[\"Critic_Count\"])"
   ]
  },
  {
   "cell_type": "code",
   "execution_count": 29,
   "id": "9cd8b043",
   "metadata": {},
   "outputs": [
    {
     "data": {
      "text/plain": [
       "{'whiskers': [<matplotlib.lines.Line2D at 0x13b365b0910>,\n",
       "  <matplotlib.lines.Line2D at 0x13b365b0ca0>],\n",
       " 'caps': [<matplotlib.lines.Line2D at 0x13b365be070>,\n",
       "  <matplotlib.lines.Line2D at 0x13b365be400>],\n",
       " 'boxes': [<matplotlib.lines.Line2D at 0x13b365b0580>],\n",
       " 'medians': [<matplotlib.lines.Line2D at 0x13b365be790>],\n",
       " 'fliers': [<matplotlib.lines.Line2D at 0x13b365beb20>],\n",
       " 'means': []}"
      ]
     },
     "execution_count": 29,
     "metadata": {},
     "output_type": "execute_result"
    },
    {
     "data": {
      "image/png": "[encoded data removed]",
      "text/plain": [
       "<Figure size 432x288 with 1 Axes>"
      ]
     },
     "metadata": {},
     "output_type": "display_data"
    }
   ],
   "source": [
    "plt.boxplot(df[\"User_Count\"])"
   ]
  },
  {
   "cell_type": "code",
   "execution_count": 30,
   "id": "468d1c63",
   "metadata": {},
   "outputs": [
    {
     "data": {
      "text/plain": [
       "{'whiskers': [<matplotlib.lines.Line2D at 0x13b36619610>,\n",
       "  <matplotlib.lines.Line2D at 0x13b366199a0>],\n",
       " 'caps': [<matplotlib.lines.Line2D at 0x13b36619d30>,\n",
       "  <matplotlib.lines.Line2D at 0x13b36626100>],\n",
       " 'boxes': [<matplotlib.lines.Line2D at 0x13b36619280>],\n",
       " 'medians': [<matplotlib.lines.Line2D at 0x13b36626490>],\n",
       " 'fliers': [<matplotlib.lines.Line2D at 0x13b36626820>],\n",
       " 'means': []}"
      ]
     },
     "execution_count": 30,
     "metadata": {},
     "output_type": "execute_result"
    },
    {
     "data": {
      "image/png": "[encoded data removed]",
      "text/plain": [
       "<Figure size 432x288 with 1 Axes>"
      ]
     },
     "metadata": {},
     "output_type": "display_data"
    }
   ],
   "source": [
    "plt.boxplot(df[\"Global_Sales\"])"
   ]
  },
  {
   "cell_type": "code",
   "execution_count": 31,
   "id": "46c2fb6f",
   "metadata": {},
   "outputs": [
    {
     "data": {
      "text/plain": [
       "{'whiskers': [<matplotlib.lines.Line2D at 0x13b36673820>,\n",
       "  <matplotlib.lines.Line2D at 0x13b36673bb0>],\n",
       " 'caps': [<matplotlib.lines.Line2D at 0x13b36673f40>,\n",
       "  <matplotlib.lines.Line2D at 0x13b3667f310>],\n",
       " 'boxes': [<matplotlib.lines.Line2D at 0x13b36673490>],\n",
       " 'medians': [<matplotlib.lines.Line2D at 0x13b3667f6a0>],\n",
       " 'fliers': [<matplotlib.lines.Line2D at 0x13b3667fa30>],\n",
       " 'means': []}"
      ]
     },
     "execution_count": 31,
     "metadata": {},
     "output_type": "execute_result"
    },
    {
     "data": {
      "image/png": "[encoded data removed]",
      "text/plain": [
       "<Figure size 432x288 with 1 Axes>"
      ]
     },
     "metadata": {},
     "output_type": "display_data"
    }
   ],
   "source": [
    "plt.boxplot(df[\"User_Count\"])"
   ]
  },
  {
   "cell_type": "code",
   "execution_count": 32,
   "id": "7a26351c",
   "metadata": {},
   "outputs": [],
   "source": [
    "df[\"Global_Sales\"]=np.where(df[\"Global_Sales\"]> 40,  40, df[\"Global_Sales\"])"
   ]
  },
  {
   "cell_type": "code",
   "execution_count": 33,
   "id": "c5332f18",
   "metadata": {},
   "outputs": [
    {
     "data": {
      "text/plain": [
       "{'whiskers': [<matplotlib.lines.Line2D at 0x13b366d1850>,\n",
       "  <matplotlib.lines.Line2D at 0x13b366d1be0>],\n",
       " 'caps': [<matplotlib.lines.Line2D at 0x13b366d1f70>,\n",
       "  <matplotlib.lines.Line2D at 0x13b366dc340>],\n",
       " 'boxes': [<matplotlib.lines.Line2D at 0x13b366d1490>],\n",
       " 'medians': [<matplotlib.lines.Line2D at 0x13b366dc6d0>],\n",
       " 'fliers': [<matplotlib.lines.Line2D at 0x13b366dca60>],\n",
       " 'means': []}"
      ]
     },
     "execution_count": 33,
     "metadata": {},
     "output_type": "execute_result"
    },
    {
     "data": {
      "image/png": "[encoded data removed]",
      "text/plain": [
       "<Figure size 432x288 with 1 Axes>"
      ]
     },
     "metadata": {},
     "output_type": "display_data"
    }
   ],
   "source": [
    "plt.boxplot(df[\"Global_Sales\"])"
   ]
  },
  {
   "cell_type": "markdown",
   "id": "636b2b14",
   "metadata": {},
   "source": [
    "## Normality Check"
   ]
  },
  {
   "cell_type": "code",
   "execution_count": 34,
   "id": "d404311b",
   "metadata": {},
   "outputs": [
    {
     "data": {
      "text/plain": [
       "<AxesSubplot:xlabel='Global_Sales', ylabel='Density'>"
      ]
     },
     "execution_count": 34,
     "metadata": {},
     "output_type": "execute_result"
    },
    {
     "data": {
      "image/png": "[encoded data removed]",
      "text/plain": [
       "<Figure size 432x288 with 1 Axes>"
      ]
     },
     "metadata": {},
     "output_type": "display_data"
    }
   ],
   "source": [
    "sns.distplot(np.sqrt(df[\"Global_Sales\"]))"
   ]
  },
  {
   "cell_type": "code",
   "execution_count": 35,
   "id": "ee8797c8",
   "metadata": {},
   "outputs": [
    {
     "data": {
      "text/plain": [
       "ShapiroResult(statistic=0.3235316872596741, pvalue=0.0)"
      ]
     },
     "execution_count": 35,
     "metadata": {},
     "output_type": "execute_result"
    }
   ],
   "source": [
    "shapiro(df[\"Global_Sales\"])\n",
    "# Null Hypthesis : Data is normal\n",
    "# Alter Hypothesis : Data is not normal"
   ]
  },
  {
   "cell_type": "code",
   "execution_count": 36,
   "id": "25a89533",
   "metadata": {},
   "outputs": [
    {
     "data": {
      "text/plain": [
       "<AxesSubplot:xlabel='Global_Sales', ylabel='Density'>"
      ]
     },
     "execution_count": 36,
     "metadata": {},
     "output_type": "execute_result"
    },
    {
     "data": {
      "image/png": "[encoded data removed]",
      "text/plain": [
       "<Figure size 432x288 with 1 Axes>"
      ]
     },
     "metadata": {},
     "output_type": "display_data"
    }
   ],
   "source": [
    "sns.distplot(np.square(df[\"Global_Sales\"]))"
   ]
  },
  {
   "cell_type": "code",
   "execution_count": 37,
   "id": "4a0d00d4",
   "metadata": {},
   "outputs": [
    {
     "name": "stdout",
     "output_type": "stream",
     "text": [
      "<class 'pandas.core.frame.DataFrame'>\n",
      "RangeIndex: 14576 entries, 0 to 14575\n",
      "Data columns (total 15 columns):\n",
      " #   Column           Non-Null Count  Dtype  \n",
      "---  ------           --------------  -----  \n",
      " 0   Name             14576 non-null  object \n",
      " 1   Platform         14576 non-null  object \n",
      " 2   Year_of_Release  14576 non-null  object \n",
      " 3   Genre            14576 non-null  object \n",
      " 4   Publisher        14576 non-null  object \n",
      " 5   NA_Sales         14576 non-null  float64\n",
      " 6   EU_Sales         14576 non-null  float64\n",
      " 7   JP_Sales         14576 non-null  float64\n",
      " 8   Critic_Score     14576 non-null  float64\n",
      " 9   Critic_Count     14576 non-null  float64\n",
      " 10  User_Score       14576 non-null  float64\n",
      " 11  User_Count       14576 non-null  float64\n",
      " 12  Developer        14576 non-null  object \n",
      " 13  Rating           14576 non-null  object \n",
      " 14  Global_Sales     14576 non-null  float64\n",
      "dtypes: float64(8), object(7)\n",
      "memory usage: 1.7+ MB\n"
     ]
    }
   ],
   "source": [
    "df.info()"
   ]
  },
  {
   "cell_type": "markdown",
   "id": "eebf788f",
   "metadata": {},
   "source": [
    "## Reading Test Dataset"
   ]
  },
  {
   "cell_type": "code",
   "execution_count": 38,
   "id": "09ea9800",
   "metadata": {},
   "outputs": [],
   "source": [
    "dft=pd.read_csv(\"Test.csv\")"
   ]
  },
  {
   "cell_type": "code",
   "execution_count": 39,
   "id": "04a0db9d",
   "metadata": {},
   "outputs": [
    {
     "data": {
      "text/html": [
       "<div>\n",
       "<style scoped>\n",
       "    .dataframe tbody tr th:only-of-type {\n",
       "        vertical-align: middle;\n",
       "    }\n",
       "\n",
       "    .dataframe tbody tr th {\n",
       "        vertical-align: top;\n",
       "    }\n",
       "\n",
       "    .dataframe thead th {\n",
       "        text-align: right;\n",
       "    }\n",
       "</style>\n",
       "<table border=\"1\" class=\"dataframe\">\n",
       "  <thead>\n",
       "    <tr style=\"text-align: right;\">\n",
       "      <th></th>\n",
       "      <th>Name</th>\n",
       "      <th>Platform</th>\n",
       "      <th>Year_of_Release</th>\n",
       "      <th>Genre</th>\n",
       "      <th>Publisher</th>\n",
       "      <th>NA_Sales</th>\n",
       "      <th>EU_Sales</th>\n",
       "      <th>JP_Sales</th>\n",
       "      <th>Critic_Score</th>\n",
       "      <th>Critic_Count</th>\n",
       "      <th>User_Score</th>\n",
       "      <th>User_Count</th>\n",
       "      <th>Developer</th>\n",
       "      <th>Rating</th>\n",
       "    </tr>\n",
       "  </thead>\n",
       "  <tbody>\n",
       "    <tr>\n",
       "      <th>0</th>\n",
       "      <td>Nicktoons: MLB</td>\n",
       "      <td>X360</td>\n",
       "      <td>2011.0</td>\n",
       "      <td>Sports</td>\n",
       "      <td>Take-Two Interactive</td>\n",
       "      <td>0.12</td>\n",
       "      <td>0.00</td>\n",
       "      <td>0.0</td>\n",
       "      <td>NaN</td>\n",
       "      <td>NaN</td>\n",
       "      <td>7.6</td>\n",
       "      <td>7.0</td>\n",
       "      <td>High Voltage Software</td>\n",
       "      <td>E</td>\n",
       "    </tr>\n",
       "    <tr>\n",
       "      <th>1</th>\n",
       "      <td>Shonen Jump's One Piece: Grand Battle</td>\n",
       "      <td>PS2</td>\n",
       "      <td>2005.0</td>\n",
       "      <td>Fighting</td>\n",
       "      <td>Atari</td>\n",
       "      <td>0.07</td>\n",
       "      <td>0.05</td>\n",
       "      <td>0.0</td>\n",
       "      <td>NaN</td>\n",
       "      <td>NaN</td>\n",
       "      <td>NaN</td>\n",
       "      <td>NaN</td>\n",
       "      <td>NaN</td>\n",
       "      <td>NaN</td>\n",
       "    </tr>\n",
       "    <tr>\n",
       "      <th>2</th>\n",
       "      <td>Learn Math</td>\n",
       "      <td>DS</td>\n",
       "      <td>2009.0</td>\n",
       "      <td>Puzzle</td>\n",
       "      <td>DreamCatcher Interactive</td>\n",
       "      <td>0.12</td>\n",
       "      <td>0.00</td>\n",
       "      <td>0.0</td>\n",
       "      <td>NaN</td>\n",
       "      <td>NaN</td>\n",
       "      <td>tbd</td>\n",
       "      <td>NaN</td>\n",
       "      <td>Dreamcatcher</td>\n",
       "      <td>E</td>\n",
       "    </tr>\n",
       "    <tr>\n",
       "      <th>3</th>\n",
       "      <td>Nitrobike</td>\n",
       "      <td>Wii</td>\n",
       "      <td>2008.0</td>\n",
       "      <td>Racing</td>\n",
       "      <td>Ubisoft</td>\n",
       "      <td>0.11</td>\n",
       "      <td>0.01</td>\n",
       "      <td>0.0</td>\n",
       "      <td>49.0</td>\n",
       "      <td>22.0</td>\n",
       "      <td>7.1</td>\n",
       "      <td>7.0</td>\n",
       "      <td>Left Field Productions</td>\n",
       "      <td>E10+</td>\n",
       "    </tr>\n",
       "    <tr>\n",
       "      <th>4</th>\n",
       "      <td>Cruise Ship Vacation Games</td>\n",
       "      <td>Wii</td>\n",
       "      <td>2009.0</td>\n",
       "      <td>Puzzle</td>\n",
       "      <td>Avanquest</td>\n",
       "      <td>0.12</td>\n",
       "      <td>0.00</td>\n",
       "      <td>0.0</td>\n",
       "      <td>NaN</td>\n",
       "      <td>NaN</td>\n",
       "      <td>tbd</td>\n",
       "      <td>NaN</td>\n",
       "      <td>Activision</td>\n",
       "      <td>E</td>\n",
       "    </tr>\n",
       "    <tr>\n",
       "      <th>...</th>\n",
       "      <td>...</td>\n",
       "      <td>...</td>\n",
       "      <td>...</td>\n",
       "      <td>...</td>\n",
       "      <td>...</td>\n",
       "      <td>...</td>\n",
       "      <td>...</td>\n",
       "      <td>...</td>\n",
       "      <td>...</td>\n",
       "      <td>...</td>\n",
       "      <td>...</td>\n",
       "      <td>...</td>\n",
       "      <td>...</td>\n",
       "      <td>...</td>\n",
       "    </tr>\n",
       "    <tr>\n",
       "      <th>2138</th>\n",
       "      <td>Theresia...</td>\n",
       "      <td>DS</td>\n",
       "      <td>2008.0</td>\n",
       "      <td>Adventure</td>\n",
       "      <td>Arc System Works</td>\n",
       "      <td>0.05</td>\n",
       "      <td>0.00</td>\n",
       "      <td>0.0</td>\n",
       "      <td>61.0</td>\n",
       "      <td>6.0</td>\n",
       "      <td>8</td>\n",
       "      <td>8.0</td>\n",
       "      <td>WorkJam</td>\n",
       "      <td>M</td>\n",
       "    </tr>\n",
       "    <tr>\n",
       "      <th>2139</th>\n",
       "      <td>Sacred 2: Fallen Angel</td>\n",
       "      <td>PC</td>\n",
       "      <td>2008.0</td>\n",
       "      <td>Role-Playing</td>\n",
       "      <td>Ascaron Entertainment GmbH</td>\n",
       "      <td>0.00</td>\n",
       "      <td>0.05</td>\n",
       "      <td>0.0</td>\n",
       "      <td>71.0</td>\n",
       "      <td>41.0</td>\n",
       "      <td>6.9</td>\n",
       "      <td>203.0</td>\n",
       "      <td>Ascaron Entertainment GmbH, Ascaron Entertainment</td>\n",
       "      <td>M</td>\n",
       "    </tr>\n",
       "    <tr>\n",
       "      <th>2140</th>\n",
       "      <td>Dance Sensation!</td>\n",
       "      <td>Wii</td>\n",
       "      <td>2010.0</td>\n",
       "      <td>Misc</td>\n",
       "      <td>Majesco Entertainment</td>\n",
       "      <td>0.06</td>\n",
       "      <td>0.00</td>\n",
       "      <td>0.0</td>\n",
       "      <td>NaN</td>\n",
       "      <td>NaN</td>\n",
       "      <td>NaN</td>\n",
       "      <td>NaN</td>\n",
       "      <td>NaN</td>\n",
       "      <td>NaN</td>\n",
       "    </tr>\n",
       "    <tr>\n",
       "      <th>2141</th>\n",
       "      <td>Adventure Time: The Secret of the Nameless Kin...</td>\n",
       "      <td>X360</td>\n",
       "      <td>2014.0</td>\n",
       "      <td>Action</td>\n",
       "      <td>Little Orbit</td>\n",
       "      <td>0.00</td>\n",
       "      <td>0.05</td>\n",
       "      <td>0.0</td>\n",
       "      <td>58.0</td>\n",
       "      <td>5.0</td>\n",
       "      <td>7.5</td>\n",
       "      <td>4.0</td>\n",
       "      <td>WayForward</td>\n",
       "      <td>E10+</td>\n",
       "    </tr>\n",
       "    <tr>\n",
       "      <th>2142</th>\n",
       "      <td>Teenage Mutant Ninja Turtles 3: Mutant Nightmare</td>\n",
       "      <td>DS</td>\n",
       "      <td>2005.0</td>\n",
       "      <td>Action</td>\n",
       "      <td>Konami Digital Entertainment</td>\n",
       "      <td>0.05</td>\n",
       "      <td>0.00</td>\n",
       "      <td>0.0</td>\n",
       "      <td>58.0</td>\n",
       "      <td>10.0</td>\n",
       "      <td>7</td>\n",
       "      <td>5.0</td>\n",
       "      <td>Konami</td>\n",
       "      <td>E</td>\n",
       "    </tr>\n",
       "  </tbody>\n",
       "</table>\n",
       "<p>2143 rows × 14 columns</p>\n",
       "</div>"
      ],
      "text/plain": [
       "                                                   Name Platform  \\\n",
       "0                                        Nicktoons: MLB     X360   \n",
       "1                 Shonen Jump's One Piece: Grand Battle      PS2   \n",
       "2                                            Learn Math       DS   \n",
       "3                                             Nitrobike      Wii   \n",
       "4                            Cruise Ship Vacation Games      Wii   \n",
       "...                                                 ...      ...   \n",
       "2138                                        Theresia...       DS   \n",
       "2139                             Sacred 2: Fallen Angel       PC   \n",
       "2140                                   Dance Sensation!      Wii   \n",
       "2141  Adventure Time: The Secret of the Nameless Kin...     X360   \n",
       "2142   Teenage Mutant Ninja Turtles 3: Mutant Nightmare       DS   \n",
       "\n",
       "      Year_of_Release         Genre                     Publisher  NA_Sales  \\\n",
       "0              2011.0        Sports          Take-Two Interactive      0.12   \n",
       "1              2005.0      Fighting                         Atari      0.07   \n",
       "2              2009.0        Puzzle      DreamCatcher Interactive      0.12   \n",
       "3              2008.0        Racing                       Ubisoft      0.11   \n",
       "4              2009.0        Puzzle                     Avanquest      0.12   \n",
       "...               ...           ...                           ...       ...   \n",
       "2138           2008.0     Adventure              Arc System Works      0.05   \n",
       "2139           2008.0  Role-Playing    Ascaron Entertainment GmbH      0.00   \n",
       "2140           2010.0          Misc         Majesco Entertainment      0.06   \n",
       "2141           2014.0        Action                  Little Orbit      0.00   \n",
       "2142           2005.0        Action  Konami Digital Entertainment      0.05   \n",
       "\n",
       "      EU_Sales  JP_Sales  Critic_Score  Critic_Count User_Score  User_Count  \\\n",
       "0         0.00       0.0           NaN           NaN        7.6         7.0   \n",
       "1         0.05       0.0           NaN           NaN        NaN         NaN   \n",
       "2         0.00       0.0           NaN           NaN        tbd         NaN   \n",
       "3         0.01       0.0          49.0          22.0        7.1         7.0   \n",
       "4         0.00       0.0           NaN           NaN        tbd         NaN   \n",
       "...        ...       ...           ...           ...        ...         ...   \n",
       "2138      0.00       0.0          61.0           6.0          8         8.0   \n",
       "2139      0.05       0.0          71.0          41.0        6.9       203.0   \n",
       "2140      0.00       0.0           NaN           NaN        NaN         NaN   \n",
       "2141      0.05       0.0          58.0           5.0        7.5         4.0   \n",
       "2142      0.00       0.0          58.0          10.0          7         5.0   \n",
       "\n",
       "                                              Developer Rating  \n",
       "0                                 High Voltage Software      E  \n",
       "1                                                   NaN    NaN  \n",
       "2                                          Dreamcatcher      E  \n",
       "3                                Left Field Productions   E10+  \n",
       "4                                            Activision      E  \n",
       "...                                                 ...    ...  \n",
       "2138                                            WorkJam      M  \n",
       "2139  Ascaron Entertainment GmbH, Ascaron Entertainment      M  \n",
       "2140                                                NaN    NaN  \n",
       "2141                                         WayForward   E10+  \n",
       "2142                                             Konami      E  \n",
       "\n",
       "[2143 rows x 14 columns]"
      ]
     },
     "execution_count": 39,
     "metadata": {},
     "output_type": "execute_result"
    }
   ],
   "source": [
    "dft"
   ]
  },
  {
   "cell_type": "code",
   "execution_count": 40,
   "id": "605495da",
   "metadata": {},
   "outputs": [
    {
     "name": "stdout",
     "output_type": "stream",
     "text": [
      "<class 'pandas.core.frame.DataFrame'>\n",
      "RangeIndex: 2143 entries, 0 to 2142\n",
      "Data columns (total 14 columns):\n",
      " #   Column           Non-Null Count  Dtype  \n",
      "---  ------           --------------  -----  \n",
      " 0   Name             2143 non-null   object \n",
      " 1   Platform         2143 non-null   object \n",
      " 2   Year_of_Release  2106 non-null   float64\n",
      " 3   Genre            2143 non-null   object \n",
      " 4   Publisher        2138 non-null   object \n",
      " 5   NA_Sales         2143 non-null   float64\n",
      " 6   EU_Sales         2143 non-null   float64\n",
      " 7   JP_Sales         2143 non-null   float64\n",
      " 8   Critic_Score     920 non-null    float64\n",
      " 9   Critic_Count     920 non-null    float64\n",
      " 10  User_Score       1255 non-null   object \n",
      " 11  User_Count       794 non-null    float64\n",
      " 12  Developer        1267 non-null   object \n",
      " 13  Rating           1246 non-null   object \n",
      "dtypes: float64(7), object(7)\n",
      "memory usage: 234.5+ KB\n"
     ]
    }
   ],
   "source": [
    "dft.info()"
   ]
  },
  {
   "cell_type": "markdown",
   "id": "3455249a",
   "metadata": {},
   "source": [
    "## Changing User_score dtype from object to float"
   ]
  },
  {
   "cell_type": "code",
   "execution_count": 41,
   "id": "a0c0ef82",
   "metadata": {},
   "outputs": [
    {
     "data": {
      "text/plain": [
       "array(['7.6', nan, 'tbd', '7.1', '2.2', '3.7', '7', '8.8', '7.8', '7.4',\n",
       "       '6.3', '8.7', '6.7', '6.2', '5.9', '3.8', '9', '3.2', '6', '4.2',\n",
       "       '8.2', '7.2', '8.3', '9.1', '5.6', '8.5', '6.6', '7.3', '7.5',\n",
       "       '6.8', '2.5', '9.2', '3.1', '5.5', '8.1', '8', '5.7', '6.4', '6.9',\n",
       "       '3.5', '3.9', '1.8', '6.5', '9.4', '5', '7.7', '2.4', '8.4', '3',\n",
       "       '2', '4.8', '4.7', '5.2', '1.3', '4.9', '5.8', '4.5', '7.9', '4.3',\n",
       "       '4', '5.4', '8.6', '2.1', '3.4', '0.2', '8.9', '1.4', '5.1', '6.1',\n",
       "       '9.3', '1.7', '5.3', '3.3', '4.1', '2.8', '4.6', '2.7', '4.4',\n",
       "       '1.5', '0.9'], dtype=object)"
      ]
     },
     "execution_count": 41,
     "metadata": {},
     "output_type": "execute_result"
    }
   ],
   "source": [
    "dft[\"User_Score\"].unique()"
   ]
  },
  {
   "cell_type": "code",
   "execution_count": 42,
   "id": "c7baf1d2",
   "metadata": {},
   "outputs": [],
   "source": [
    "dft[\"User_Score\"]=np.where(dft[\"User_Score\"]==\"tbd\" ,0, dft[\"User_Score\"])"
   ]
  },
  {
   "cell_type": "code",
   "execution_count": 43,
   "id": "790efe3c",
   "metadata": {},
   "outputs": [],
   "source": [
    "dft[\"User_Score\"]=np.where(dft[\"User_Score\"]==\"nan\" ,0, dft[\"User_Score\"])"
   ]
  },
  {
   "cell_type": "code",
   "execution_count": 44,
   "id": "4b0da948",
   "metadata": {},
   "outputs": [
    {
     "data": {
      "text/plain": [
       "array(['7.6', nan, 0, '7.1', '2.2', '3.7', '7', '8.8', '7.8', '7.4',\n",
       "       '6.3', '8.7', '6.7', '6.2', '5.9', '3.8', '9', '3.2', '6', '4.2',\n",
       "       '8.2', '7.2', '8.3', '9.1', '5.6', '8.5', '6.6', '7.3', '7.5',\n",
       "       '6.8', '2.5', '9.2', '3.1', '5.5', '8.1', '8', '5.7', '6.4', '6.9',\n",
       "       '3.5', '3.9', '1.8', '6.5', '9.4', '5', '7.7', '2.4', '8.4', '3',\n",
       "       '2', '4.8', '4.7', '5.2', '1.3', '4.9', '5.8', '4.5', '7.9', '4.3',\n",
       "       '4', '5.4', '8.6', '2.1', '3.4', '0.2', '8.9', '1.4', '5.1', '6.1',\n",
       "       '9.3', '1.7', '5.3', '3.3', '4.1', '2.8', '4.6', '2.7', '4.4',\n",
       "       '1.5', '0.9'], dtype=object)"
      ]
     },
     "execution_count": 44,
     "metadata": {},
     "output_type": "execute_result"
    }
   ],
   "source": [
    "dft[\"User_Score\"].unique()"
   ]
  },
  {
   "cell_type": "code",
   "execution_count": 45,
   "id": "ab61a903",
   "metadata": {},
   "outputs": [],
   "source": [
    "dft[\"User_Score\"]=df[\"User_Score\"].astype(float)"
   ]
  },
  {
   "cell_type": "code",
   "execution_count": 46,
   "id": "6ea1604f",
   "metadata": {},
   "outputs": [
    {
     "data": {
      "text/plain": [
       "dtype('float64')"
      ]
     },
     "execution_count": 46,
     "metadata": {},
     "output_type": "execute_result"
    }
   ],
   "source": [
    "dft[\"User_Score\"].dtypes"
   ]
  },
  {
   "cell_type": "code",
   "execution_count": 47,
   "id": "3026a5d4",
   "metadata": {},
   "outputs": [
    {
     "name": "stdout",
     "output_type": "stream",
     "text": [
      "<class 'pandas.core.frame.DataFrame'>\n",
      "RangeIndex: 2143 entries, 0 to 2142\n",
      "Data columns (total 14 columns):\n",
      " #   Column           Non-Null Count  Dtype  \n",
      "---  ------           --------------  -----  \n",
      " 0   Name             2143 non-null   object \n",
      " 1   Platform         2143 non-null   object \n",
      " 2   Year_of_Release  2106 non-null   float64\n",
      " 3   Genre            2143 non-null   object \n",
      " 4   Publisher        2138 non-null   object \n",
      " 5   NA_Sales         2143 non-null   float64\n",
      " 6   EU_Sales         2143 non-null   float64\n",
      " 7   JP_Sales         2143 non-null   float64\n",
      " 8   Critic_Score     920 non-null    float64\n",
      " 9   Critic_Count     920 non-null    float64\n",
      " 10  User_Score       2143 non-null   float64\n",
      " 11  User_Count       794 non-null    float64\n",
      " 12  Developer        1267 non-null   object \n",
      " 13  Rating           1246 non-null   object \n",
      "dtypes: float64(8), object(6)\n",
      "memory usage: 234.5+ KB\n"
     ]
    }
   ],
   "source": [
    "dft.info()"
   ]
  },
  {
   "cell_type": "markdown",
   "id": "13513dfc",
   "metadata": {},
   "source": [
    "## Treatment of null values"
   ]
  },
  {
   "cell_type": "code",
   "execution_count": 48,
   "id": "6ade490a",
   "metadata": {},
   "outputs": [],
   "source": [
    "dft[\"Year_of_Release\"].fillna(\"2009.0\", inplace = True)\n",
    "dft[\"Publisher\"].fillna(\"Electronic Arts\", inplace = True)\n",
    "dft[\"Critic_Score\"].fillna(69.67, inplace = True)\n",
    "dft[\"Critic_Count\"].fillna(27.30, inplace = True)\n",
    "dft[\"User_Count\"].fillna(172.51, inplace = True)\n",
    "dft[\"Developer\"].fillna(\"Ubisoft\", inplace = True)\n",
    "dft[\"Rating\"].fillna(\"E\", inplace = True)\n",
    "dft[\"User_Score\"].fillna(7.15, inplace =True)"
   ]
  },
  {
   "cell_type": "code",
   "execution_count": 49,
   "id": "5817aed0",
   "metadata": {},
   "outputs": [
    {
     "data": {
      "text/plain": [
       "Name               0\n",
       "Platform           0\n",
       "Year_of_Release    0\n",
       "Genre              0\n",
       "Publisher          0\n",
       "NA_Sales           0\n",
       "EU_Sales           0\n",
       "JP_Sales           0\n",
       "Critic_Score       0\n",
       "Critic_Count       0\n",
       "User_Score         0\n",
       "User_Count         0\n",
       "Developer          0\n",
       "Rating             0\n",
       "dtype: int64"
      ]
     },
     "execution_count": 49,
     "metadata": {},
     "output_type": "execute_result"
    }
   ],
   "source": [
    "dft.isna().sum()"
   ]
  },
  {
   "cell_type": "code",
   "execution_count": 50,
   "id": "8b20505e",
   "metadata": {},
   "outputs": [
    {
     "data": {
      "text/html": [
       "<div>\n",
       "<style scoped>\n",
       "    .dataframe tbody tr th:only-of-type {\n",
       "        vertical-align: middle;\n",
       "    }\n",
       "\n",
       "    .dataframe tbody tr th {\n",
       "        vertical-align: top;\n",
       "    }\n",
       "\n",
       "    .dataframe thead th {\n",
       "        text-align: right;\n",
       "    }\n",
       "</style>\n",
       "<table border=\"1\" class=\"dataframe\">\n",
       "  <thead>\n",
       "    <tr style=\"text-align: right;\">\n",
       "      <th></th>\n",
       "      <th>count</th>\n",
       "      <th>mean</th>\n",
       "      <th>std</th>\n",
       "      <th>min</th>\n",
       "      <th>1%</th>\n",
       "      <th>2%</th>\n",
       "      <th>3%</th>\n",
       "      <th>4%</th>\n",
       "      <th>5%</th>\n",
       "      <th>10%</th>\n",
       "      <th>...</th>\n",
       "      <th>40%</th>\n",
       "      <th>50%</th>\n",
       "      <th>75%</th>\n",
       "      <th>90%</th>\n",
       "      <th>95%</th>\n",
       "      <th>96%</th>\n",
       "      <th>97%</th>\n",
       "      <th>98%</th>\n",
       "      <th>99%</th>\n",
       "      <th>max</th>\n",
       "    </tr>\n",
       "  </thead>\n",
       "  <tbody>\n",
       "    <tr>\n",
       "      <th>NA_Sales</th>\n",
       "      <td>2143.0</td>\n",
       "      <td>0.043999</td>\n",
       "      <td>0.036211</td>\n",
       "      <td>0.0</td>\n",
       "      <td>0.0</td>\n",
       "      <td>0.0</td>\n",
       "      <td>0.000</td>\n",
       "      <td>0.0</td>\n",
       "      <td>0.00</td>\n",
       "      <td>0.0</td>\n",
       "      <td>...</td>\n",
       "      <td>0.04</td>\n",
       "      <td>0.05</td>\n",
       "      <td>0.07</td>\n",
       "      <td>0.10</td>\n",
       "      <td>0.11</td>\n",
       "      <td>0.11</td>\n",
       "      <td>0.11</td>\n",
       "      <td>0.12</td>\n",
       "      <td>0.12</td>\n",
       "      <td>0.12</td>\n",
       "    </tr>\n",
       "    <tr>\n",
       "      <th>EU_Sales</th>\n",
       "      <td>2143.0</td>\n",
       "      <td>0.016253</td>\n",
       "      <td>0.020982</td>\n",
       "      <td>0.0</td>\n",
       "      <td>0.0</td>\n",
       "      <td>0.0</td>\n",
       "      <td>0.000</td>\n",
       "      <td>0.0</td>\n",
       "      <td>0.00</td>\n",
       "      <td>0.0</td>\n",
       "      <td>...</td>\n",
       "      <td>0.00</td>\n",
       "      <td>0.01</td>\n",
       "      <td>0.03</td>\n",
       "      <td>0.05</td>\n",
       "      <td>0.06</td>\n",
       "      <td>0.06</td>\n",
       "      <td>0.06</td>\n",
       "      <td>0.07</td>\n",
       "      <td>0.09</td>\n",
       "      <td>0.13</td>\n",
       "    </tr>\n",
       "    <tr>\n",
       "      <th>JP_Sales</th>\n",
       "      <td>2143.0</td>\n",
       "      <td>0.022804</td>\n",
       "      <td>0.038525</td>\n",
       "      <td>0.0</td>\n",
       "      <td>0.0</td>\n",
       "      <td>0.0</td>\n",
       "      <td>0.000</td>\n",
       "      <td>0.0</td>\n",
       "      <td>0.00</td>\n",
       "      <td>0.0</td>\n",
       "      <td>...</td>\n",
       "      <td>0.00</td>\n",
       "      <td>0.00</td>\n",
       "      <td>0.06</td>\n",
       "      <td>0.08</td>\n",
       "      <td>0.12</td>\n",
       "      <td>0.12</td>\n",
       "      <td>0.12</td>\n",
       "      <td>0.13</td>\n",
       "      <td>0.13</td>\n",
       "      <td>0.13</td>\n",
       "    </tr>\n",
       "    <tr>\n",
       "      <th>Critic_Score</th>\n",
       "      <td>2143.0</td>\n",
       "      <td>66.982926</td>\n",
       "      <td>9.668164</td>\n",
       "      <td>19.0</td>\n",
       "      <td>32.0</td>\n",
       "      <td>36.0</td>\n",
       "      <td>39.260</td>\n",
       "      <td>44.0</td>\n",
       "      <td>46.00</td>\n",
       "      <td>54.0</td>\n",
       "      <td>...</td>\n",
       "      <td>69.67</td>\n",
       "      <td>69.67</td>\n",
       "      <td>69.67</td>\n",
       "      <td>74.00</td>\n",
       "      <td>79.00</td>\n",
       "      <td>80.00</td>\n",
       "      <td>82.00</td>\n",
       "      <td>83.00</td>\n",
       "      <td>86.00</td>\n",
       "      <td>92.00</td>\n",
       "    </tr>\n",
       "    <tr>\n",
       "      <th>Critic_Count</th>\n",
       "      <td>2143.0</td>\n",
       "      <td>23.693374</td>\n",
       "      <td>9.078761</td>\n",
       "      <td>4.0</td>\n",
       "      <td>4.0</td>\n",
       "      <td>4.0</td>\n",
       "      <td>5.000</td>\n",
       "      <td>5.0</td>\n",
       "      <td>6.00</td>\n",
       "      <td>9.0</td>\n",
       "      <td>...</td>\n",
       "      <td>27.30</td>\n",
       "      <td>27.30</td>\n",
       "      <td>27.30</td>\n",
       "      <td>27.30</td>\n",
       "      <td>35.00</td>\n",
       "      <td>38.00</td>\n",
       "      <td>40.00</td>\n",
       "      <td>44.00</td>\n",
       "      <td>51.00</td>\n",
       "      <td>77.00</td>\n",
       "    </tr>\n",
       "    <tr>\n",
       "      <th>User_Score</th>\n",
       "      <td>2143.0</td>\n",
       "      <td>7.236654</td>\n",
       "      <td>1.554527</td>\n",
       "      <td>0.0</td>\n",
       "      <td>0.0</td>\n",
       "      <td>0.0</td>\n",
       "      <td>3.026</td>\n",
       "      <td>4.2</td>\n",
       "      <td>4.61</td>\n",
       "      <td>6.0</td>\n",
       "      <td>...</td>\n",
       "      <td>7.15</td>\n",
       "      <td>7.15</td>\n",
       "      <td>8.10</td>\n",
       "      <td>8.70</td>\n",
       "      <td>8.90</td>\n",
       "      <td>9.00</td>\n",
       "      <td>9.00</td>\n",
       "      <td>9.10</td>\n",
       "      <td>9.20</td>\n",
       "      <td>9.50</td>\n",
       "    </tr>\n",
       "    <tr>\n",
       "      <th>User_Count</th>\n",
       "      <td>2143.0</td>\n",
       "      <td>136.090523</td>\n",
       "      <td>245.965312</td>\n",
       "      <td>4.0</td>\n",
       "      <td>4.0</td>\n",
       "      <td>4.0</td>\n",
       "      <td>5.000</td>\n",
       "      <td>5.0</td>\n",
       "      <td>5.00</td>\n",
       "      <td>7.0</td>\n",
       "      <td>...</td>\n",
       "      <td>172.51</td>\n",
       "      <td>172.51</td>\n",
       "      <td>172.51</td>\n",
       "      <td>172.51</td>\n",
       "      <td>172.51</td>\n",
       "      <td>172.51</td>\n",
       "      <td>172.51</td>\n",
       "      <td>274.60</td>\n",
       "      <td>565.96</td>\n",
       "      <td>9851.00</td>\n",
       "    </tr>\n",
       "  </tbody>\n",
       "</table>\n",
       "<p>7 rows × 23 columns</p>\n",
       "</div>"
      ],
      "text/plain": [
       "               count        mean         std   min    1%    2%      3%    4%  \\\n",
       "NA_Sales      2143.0    0.043999    0.036211   0.0   0.0   0.0   0.000   0.0   \n",
       "EU_Sales      2143.0    0.016253    0.020982   0.0   0.0   0.0   0.000   0.0   \n",
       "JP_Sales      2143.0    0.022804    0.038525   0.0   0.0   0.0   0.000   0.0   \n",
       "Critic_Score  2143.0   66.982926    9.668164  19.0  32.0  36.0  39.260  44.0   \n",
       "Critic_Count  2143.0   23.693374    9.078761   4.0   4.0   4.0   5.000   5.0   \n",
       "User_Score    2143.0    7.236654    1.554527   0.0   0.0   0.0   3.026   4.2   \n",
       "User_Count    2143.0  136.090523  245.965312   4.0   4.0   4.0   5.000   5.0   \n",
       "\n",
       "                 5%   10%  ...     40%     50%     75%     90%     95%  \\\n",
       "NA_Sales       0.00   0.0  ...    0.04    0.05    0.07    0.10    0.11   \n",
       "EU_Sales       0.00   0.0  ...    0.00    0.01    0.03    0.05    0.06   \n",
       "JP_Sales       0.00   0.0  ...    0.00    0.00    0.06    0.08    0.12   \n",
       "Critic_Score  46.00  54.0  ...   69.67   69.67   69.67   74.00   79.00   \n",
       "Critic_Count   6.00   9.0  ...   27.30   27.30   27.30   27.30   35.00   \n",
       "User_Score     4.61   6.0  ...    7.15    7.15    8.10    8.70    8.90   \n",
       "User_Count     5.00   7.0  ...  172.51  172.51  172.51  172.51  172.51   \n",
       "\n",
       "                 96%     97%     98%     99%      max  \n",
       "NA_Sales        0.11    0.11    0.12    0.12     0.12  \n",
       "EU_Sales        0.06    0.06    0.07    0.09     0.13  \n",
       "JP_Sales        0.12    0.12    0.13    0.13     0.13  \n",
       "Critic_Score   80.00   82.00   83.00   86.00    92.00  \n",
       "Critic_Count   38.00   40.00   44.00   51.00    77.00  \n",
       "User_Score      9.00    9.00    9.10    9.20     9.50  \n",
       "User_Count    172.51  172.51  274.60  565.96  9851.00  \n",
       "\n",
       "[7 rows x 23 columns]"
      ]
     },
     "execution_count": 50,
     "metadata": {},
     "output_type": "execute_result"
    }
   ],
   "source": [
    "dft.describe(percentiles=[0.01,0.02, .03,0.04, 0.05, 0.1, .2, .25, .3, .4, .5,.75,.9, .95,.96,.97,.98,.99]).T"
   ]
  },
  {
   "cell_type": "code",
   "execution_count": 51,
   "id": "d30621dc",
   "metadata": {},
   "outputs": [
    {
     "data": {
      "text/plain": [
       "{'whiskers': [<matplotlib.lines.Line2D at 0x13b3691b970>,\n",
       "  <matplotlib.lines.Line2D at 0x13b3691bd00>],\n",
       " 'caps': [<matplotlib.lines.Line2D at 0x13b369260d0>,\n",
       "  <matplotlib.lines.Line2D at 0x13b36926460>],\n",
       " 'boxes': [<matplotlib.lines.Line2D at 0x13b3691b5e0>],\n",
       " 'medians': [<matplotlib.lines.Line2D at 0x13b369267f0>],\n",
       " 'fliers': [<matplotlib.lines.Line2D at 0x13b36926b80>],\n",
       " 'means': []}"
      ]
     },
     "execution_count": 51,
     "metadata": {},
     "output_type": "execute_result"
    },
    {
     "data": {
      "image/png": "[encoded data removed]",
      "text/plain": [
       "<Figure size 432x288 with 1 Axes>"
      ]
     },
     "metadata": {},
     "output_type": "display_data"
    }
   ],
   "source": [
    "plt.boxplot(dft[\"EU_Sales\"])"
   ]
  },
  {
   "cell_type": "code",
   "execution_count": 52,
   "id": "fb969141",
   "metadata": {},
   "outputs": [
    {
     "data": {
      "text/plain": [
       "{'whiskers': [<matplotlib.lines.Line2D at 0x13b36985490>,\n",
       "  <matplotlib.lines.Line2D at 0x13b36985820>],\n",
       " 'caps': [<matplotlib.lines.Line2D at 0x13b36985bb0>,\n",
       "  <matplotlib.lines.Line2D at 0x13b36985f40>],\n",
       " 'boxes': [<matplotlib.lines.Line2D at 0x13b36985100>],\n",
       " 'medians': [<matplotlib.lines.Line2D at 0x13b369902b0>],\n",
       " 'fliers': [<matplotlib.lines.Line2D at 0x13b36990640>],\n",
       " 'means': []}"
      ]
     },
     "execution_count": 52,
     "metadata": {},
     "output_type": "execute_result"
    },
    {
     "data": {
      "image/png": "[encoded data removed]",
      "text/plain": [
       "<Figure size 432x288 with 1 Axes>"
      ]
     },
     "metadata": {},
     "output_type": "display_data"
    }
   ],
   "source": [
    "plt.boxplot(dft[\"JP_Sales\"])"
   ]
  },
  {
   "cell_type": "code",
   "execution_count": 53,
   "id": "5054c177",
   "metadata": {},
   "outputs": [
    {
     "data": {
      "text/plain": [
       "{'whiskers': [<matplotlib.lines.Line2D at 0x13b369ef3a0>,\n",
       "  <matplotlib.lines.Line2D at 0x13b369ef730>],\n",
       " 'caps': [<matplotlib.lines.Line2D at 0x13b369efac0>,\n",
       "  <matplotlib.lines.Line2D at 0x13b369efe50>],\n",
       " 'boxes': [<matplotlib.lines.Line2D at 0x13b369dffd0>],\n",
       " 'medians': [<matplotlib.lines.Line2D at 0x13b369f9220>],\n",
       " 'fliers': [<matplotlib.lines.Line2D at 0x13b369f95b0>],\n",
       " 'means': []}"
      ]
     },
     "execution_count": 53,
     "metadata": {},
     "output_type": "execute_result"
    },
    {
     "data": {
      "image/png": "[encoded data removed]",
      "text/plain": [
       "<Figure size 432x288 with 1 Axes>"
      ]
     },
     "metadata": {},
     "output_type": "display_data"
    }
   ],
   "source": [
    "plt.boxplot(dft[\"Critic_Score\"])"
   ]
  },
  {
   "cell_type": "code",
   "execution_count": 54,
   "id": "d306cf4d",
   "metadata": {},
   "outputs": [
    {
     "data": {
      "text/plain": [
       "{'whiskers': [<matplotlib.lines.Line2D at 0x13b36a57850>,\n",
       "  <matplotlib.lines.Line2D at 0x13b36a57b80>],\n",
       " 'caps': [<matplotlib.lines.Line2D at 0x13b36a57f10>,\n",
       "  <matplotlib.lines.Line2D at 0x13b36a642e0>],\n",
       " 'boxes': [<matplotlib.lines.Line2D at 0x13b36a574c0>],\n",
       " 'medians': [<matplotlib.lines.Line2D at 0x13b36a64670>],\n",
       " 'fliers': [<matplotlib.lines.Line2D at 0x13b36a64a00>],\n",
       " 'means': []}"
      ]
     },
     "execution_count": 54,
     "metadata": {},
     "output_type": "execute_result"
    },
    {
     "data": {
      "image/png": "[encoded data removed]",
      "text/plain": [
       "<Figure size 432x288 with 1 Axes>"
      ]
     },
     "metadata": {},
     "output_type": "display_data"
    }
   ],
   "source": [
    "plt.boxplot(dft[\"Critic_Count\"])"
   ]
  },
  {
   "cell_type": "code",
   "execution_count": 55,
   "id": "0b59fe8d",
   "metadata": {},
   "outputs": [
    {
     "data": {
      "text/plain": [
       "{'whiskers': [<matplotlib.lines.Line2D at 0x13b36abecd0>,\n",
       "  <matplotlib.lines.Line2D at 0x13b36acc0a0>],\n",
       " 'caps': [<matplotlib.lines.Line2D at 0x13b36acc430>,\n",
       "  <matplotlib.lines.Line2D at 0x13b36acc7c0>],\n",
       " 'boxes': [<matplotlib.lines.Line2D at 0x13b36abe940>],\n",
       " 'medians': [<matplotlib.lines.Line2D at 0x13b36accb50>],\n",
       " 'fliers': [<matplotlib.lines.Line2D at 0x13b36accee0>],\n",
       " 'means': []}"
      ]
     },
     "execution_count": 55,
     "metadata": {},
     "output_type": "execute_result"
    },
    {
     "data": {
      "image/png": "[encoded data removed]",
      "text/plain": [
       "<Figure size 432x288 with 1 Axes>"
      ]
     },
     "metadata": {},
     "output_type": "display_data"
    }
   ],
   "source": [
    "plt.boxplot(dft[\"User_Score\"])"
   ]
  },
  {
   "cell_type": "code",
   "execution_count": 56,
   "id": "1daf07d7",
   "metadata": {},
   "outputs": [],
   "source": [
    "dft[\"User_Score\"]=np.where(dft[\"User_Score\"]<2,2, dft[\"User_Score\"])"
   ]
  },
  {
   "cell_type": "code",
   "execution_count": 57,
   "id": "a3c77c2d",
   "metadata": {},
   "outputs": [
    {
     "data": {
      "text/plain": [
       "{'whiskers': [<matplotlib.lines.Line2D at 0x13b36b248b0>,\n",
       "  <matplotlib.lines.Line2D at 0x13b36b24c40>],\n",
       " 'caps': [<matplotlib.lines.Line2D at 0x13b36b24fd0>,\n",
       "  <matplotlib.lines.Line2D at 0x13b36b323a0>],\n",
       " 'boxes': [<matplotlib.lines.Line2D at 0x13b36b24520>],\n",
       " 'medians': [<matplotlib.lines.Line2D at 0x13b36b326d0>],\n",
       " 'fliers': [<matplotlib.lines.Line2D at 0x13b36b32a60>],\n",
       " 'means': []}"
      ]
     },
     "execution_count": 57,
     "metadata": {},
     "output_type": "execute_result"
    },
    {
     "data": {
      "image/png": "[encoded data removed]",
      "text/plain": [
       "<Figure size 432x288 with 1 Axes>"
      ]
     },
     "metadata": {},
     "output_type": "display_data"
    }
   ],
   "source": [
    "plt.boxplot(df[\"User_Score\"])"
   ]
  },
  {
   "cell_type": "code",
   "execution_count": 58,
   "id": "86f9fd0b",
   "metadata": {},
   "outputs": [
    {
     "data": {
      "text/plain": [
       "{'whiskers': [<matplotlib.lines.Line2D at 0x13b36b921f0>,\n",
       "  <matplotlib.lines.Line2D at 0x13b36b92580>],\n",
       " 'caps': [<matplotlib.lines.Line2D at 0x13b36b92910>,\n",
       "  <matplotlib.lines.Line2D at 0x13b36b92ca0>],\n",
       " 'boxes': [<matplotlib.lines.Line2D at 0x13b36b82e20>],\n",
       " 'medians': [<matplotlib.lines.Line2D at 0x13b36b9e070>],\n",
       " 'fliers': [<matplotlib.lines.Line2D at 0x13b36b9e400>],\n",
       " 'means': []}"
      ]
     },
     "execution_count": 58,
     "metadata": {},
     "output_type": "execute_result"
    },
    {
     "data": {
      "image/png": "[encoded data removed]",
      "text/plain": [
       "<Figure size 432x288 with 1 Axes>"
      ]
     },
     "metadata": {},
     "output_type": "display_data"
    }
   ],
   "source": [
    "plt.boxplot(dft[\"User_Count\"])"
   ]
  },
  {
   "cell_type": "code",
   "execution_count": 59,
   "id": "784fbca6",
   "metadata": {},
   "outputs": [],
   "source": [
    "dft[\"User_Count\"]=np.where(dft[\"User_Count\"]>2000,2000, dft[\"User_Count\"])"
   ]
  },
  {
   "cell_type": "code",
   "execution_count": 60,
   "id": "3c80d265",
   "metadata": {},
   "outputs": [
    {
     "data": {
      "text/plain": [
       "{'whiskers': [<matplotlib.lines.Line2D at 0x13b36bf2970>,\n",
       "  <matplotlib.lines.Line2D at 0x13b36bf2d00>],\n",
       " 'caps': [<matplotlib.lines.Line2D at 0x13b36bfd0d0>,\n",
       "  <matplotlib.lines.Line2D at 0x13b36bfd460>],\n",
       " 'boxes': [<matplotlib.lines.Line2D at 0x13b36bf25e0>],\n",
       " 'medians': [<matplotlib.lines.Line2D at 0x13b36bfd7f0>],\n",
       " 'fliers': [<matplotlib.lines.Line2D at 0x13b36bfdb80>],\n",
       " 'means': []}"
      ]
     },
     "execution_count": 60,
     "metadata": {},
     "output_type": "execute_result"
    },
    {
     "data": {
      "image/png": "[encoded data removed]",
      "text/plain": [
       "<Figure size 432x288 with 1 Axes>"
      ]
     },
     "metadata": {},
     "output_type": "display_data"
    }
   ],
   "source": [
    "plt.boxplot(dft[\"User_Count\"])"
   ]
  },
  {
   "cell_type": "code",
   "execution_count": 61,
   "id": "f389a02a",
   "metadata": {},
   "outputs": [
    {
     "data": {
      "text/plain": [
       "{'whiskers': [<matplotlib.lines.Line2D at 0x13b36c643d0>,\n",
       "  <matplotlib.lines.Line2D at 0x13b36c64760>],\n",
       " 'caps': [<matplotlib.lines.Line2D at 0x13b36c64af0>,\n",
       "  <matplotlib.lines.Line2D at 0x13b36c64e80>],\n",
       " 'boxes': [<matplotlib.lines.Line2D at 0x13b36c64040>],\n",
       " 'medians': [<matplotlib.lines.Line2D at 0x13b36c6e250>],\n",
       " 'fliers': [<matplotlib.lines.Line2D at 0x13b36c6e5e0>],\n",
       " 'means': []}"
      ]
     },
     "execution_count": 61,
     "metadata": {},
     "output_type": "execute_result"
    },
    {
     "data": {
      "image/png": "[encoded data removed]",
      "text/plain": [
       "<Figure size 432x288 with 1 Axes>"
      ]
     },
     "metadata": {},
     "output_type": "display_data"
    }
   ],
   "source": [
    "plt.boxplot(dft[\"NA_Sales\"])"
   ]
  },
  {
   "cell_type": "code",
   "execution_count": 62,
   "id": "31682c64",
   "metadata": {},
   "outputs": [
    {
     "name": "stdout",
     "output_type": "stream",
     "text": [
      "<class 'pandas.core.frame.DataFrame'>\n",
      "RangeIndex: 2143 entries, 0 to 2142\n",
      "Data columns (total 14 columns):\n",
      " #   Column           Non-Null Count  Dtype  \n",
      "---  ------           --------------  -----  \n",
      " 0   Name             2143 non-null   object \n",
      " 1   Platform         2143 non-null   object \n",
      " 2   Year_of_Release  2143 non-null   object \n",
      " 3   Genre            2143 non-null   object \n",
      " 4   Publisher        2143 non-null   object \n",
      " 5   NA_Sales         2143 non-null   float64\n",
      " 6   EU_Sales         2143 non-null   float64\n",
      " 7   JP_Sales         2143 non-null   float64\n",
      " 8   Critic_Score     2143 non-null   float64\n",
      " 9   Critic_Count     2143 non-null   float64\n",
      " 10  User_Score       2143 non-null   float64\n",
      " 11  User_Count       2143 non-null   float64\n",
      " 12  Developer        2143 non-null   object \n",
      " 13  Rating           2143 non-null   object \n",
      "dtypes: float64(7), object(7)\n",
      "memory usage: 234.5+ KB\n"
     ]
    }
   ],
   "source": [
    "dft.info()"
   ]
  },
  {
   "cell_type": "markdown",
   "id": "ac613e2f",
   "metadata": {},
   "source": [
    "## Create Dummies "
   ]
  },
  {
   "cell_type": "code",
   "execution_count": 65,
   "id": "61924ff9",
   "metadata": {},
   "outputs": [],
   "source": [
    "df1=pd.get_dummies(df, \n",
    "                     columns=[\"Name\",\"Platform\",\"Genre\",\"Publisher\",\"Developer\",\"Rating\",\"Year_of_Release\"],\n",
    "              drop_first=True)"
   ]
  },
  {
   "cell_type": "code",
   "execution_count": 66,
   "id": "39253156",
   "metadata": {},
   "outputs": [],
   "source": [
    "dft1=pd.get_dummies(dft, \n",
    "                     columns=[\"Name\",\"Platform\",\"Genre\",\"Publisher\",\"Developer\",\"Rating\",\"Year_of_Release\"],\n",
    "              drop_first=True)"
   ]
  },
  {
   "cell_type": "code",
   "execution_count": 69,
   "id": "7d75fb73",
   "metadata": {},
   "outputs": [],
   "source": [
    "y=df1[\"Global_Sales\"]\n",
    "X=df1.drop(columns=[\"Global_Sales\"])"
   ]
  },
  {
   "cell_type": "code",
   "execution_count": 70,
   "id": "5246ecd6",
   "metadata": {},
   "outputs": [],
   "source": [
    "X_train,X_test, y_train, y_test=train_test_split(X,y, test_size=.3, random_state=88)"
   ]
  },
  {
   "cell_type": "code",
   "execution_count": 71,
   "id": "7b83e86d",
   "metadata": {},
   "outputs": [],
   "source": [
    "Lr=LinearRegression()"
   ]
  },
  {
   "cell_type": "code",
   "execution_count": 72,
   "id": "8ead5b74",
   "metadata": {},
   "outputs": [
    {
     "data": {
      "text/plain": [
       "LinearRegression()"
      ]
     },
     "execution_count": 72,
     "metadata": {},
     "output_type": "execute_result"
    }
   ],
   "source": [
    "Lr.fit(X_train, y_train)"
   ]
  },
  {
   "cell_type": "code",
   "execution_count": 73,
   "id": "94f11173",
   "metadata": {},
   "outputs": [
    {
     "data": {
      "text/plain": [
       "0.9991798741299239"
      ]
     },
     "execution_count": 73,
     "metadata": {},
     "output_type": "execute_result"
    }
   ],
   "source": [
    "Lr.score(X_train, y_train)"
   ]
  },
  {
   "cell_type": "code",
   "execution_count": 74,
   "id": "acea9e29",
   "metadata": {},
   "outputs": [
    {
     "data": {
      "text/plain": [
       "-130841595759.52364"
      ]
     },
     "execution_count": 74,
     "metadata": {},
     "output_type": "execute_result"
    }
   ],
   "source": [
    "Lr.score(X_test, y_test)"
   ]
  },
  {
   "cell_type": "code",
   "execution_count": 75,
   "id": "8d38607a",
   "metadata": {},
   "outputs": [],
   "source": [
    "pred_train=Lr.predict(X_train)\n",
    "pred_test=Lr.predict(X_test)"
   ]
  },
  {
   "cell_type": "code",
   "execution_count": 76,
   "id": "fde7a5e7",
   "metadata": {},
   "outputs": [
    {
     "name": "stdout",
     "output_type": "stream",
     "text": [
      "RMSE 0.043778390727393986\n"
     ]
    }
   ],
   "source": [
    "print(\"RMSE\", np.sqrt(np.mean(np.square(y_train-pred_train))))"
   ]
  },
  {
   "cell_type": "code",
   "execution_count": 77,
   "id": "db25c15c",
   "metadata": {},
   "outputs": [
    {
     "data": {
      "text/html": [
       "<div>\n",
       "<style scoped>\n",
       "    .dataframe tbody tr th:only-of-type {\n",
       "        vertical-align: middle;\n",
       "    }\n",
       "\n",
       "    .dataframe tbody tr th {\n",
       "        vertical-align: top;\n",
       "    }\n",
       "\n",
       "    .dataframe thead th {\n",
       "        text-align: right;\n",
       "    }\n",
       "</style>\n",
       "<table border=\"1\" class=\"dataframe\">\n",
       "  <thead>\n",
       "    <tr style=\"text-align: right;\">\n",
       "      <th></th>\n",
       "      <th>Name</th>\n",
       "      <th>Platform</th>\n",
       "      <th>Year_of_Release</th>\n",
       "      <th>Genre</th>\n",
       "      <th>Publisher</th>\n",
       "      <th>NA_Sales</th>\n",
       "      <th>EU_Sales</th>\n",
       "      <th>JP_Sales</th>\n",
       "      <th>Critic_Score</th>\n",
       "      <th>Critic_Count</th>\n",
       "      <th>User_Score</th>\n",
       "      <th>User_Count</th>\n",
       "      <th>Developer</th>\n",
       "      <th>Rating</th>\n",
       "    </tr>\n",
       "  </thead>\n",
       "  <tbody>\n",
       "    <tr>\n",
       "      <th>0</th>\n",
       "      <td>Nicktoons: MLB</td>\n",
       "      <td>X360</td>\n",
       "      <td>2011.0</td>\n",
       "      <td>Sports</td>\n",
       "      <td>Take-Two Interactive</td>\n",
       "      <td>0.12</td>\n",
       "      <td>0.00</td>\n",
       "      <td>0.0</td>\n",
       "      <td>NaN</td>\n",
       "      <td>NaN</td>\n",
       "      <td>7.6</td>\n",
       "      <td>7.0</td>\n",
       "      <td>High Voltage Software</td>\n",
       "      <td>E</td>\n",
       "    </tr>\n",
       "    <tr>\n",
       "      <th>1</th>\n",
       "      <td>Shonen Jump's One Piece: Grand Battle</td>\n",
       "      <td>PS2</td>\n",
       "      <td>2005.0</td>\n",
       "      <td>Fighting</td>\n",
       "      <td>Atari</td>\n",
       "      <td>0.07</td>\n",
       "      <td>0.05</td>\n",
       "      <td>0.0</td>\n",
       "      <td>NaN</td>\n",
       "      <td>NaN</td>\n",
       "      <td>NaN</td>\n",
       "      <td>NaN</td>\n",
       "      <td>NaN</td>\n",
       "      <td>NaN</td>\n",
       "    </tr>\n",
       "    <tr>\n",
       "      <th>2</th>\n",
       "      <td>Learn Math</td>\n",
       "      <td>DS</td>\n",
       "      <td>2009.0</td>\n",
       "      <td>Puzzle</td>\n",
       "      <td>DreamCatcher Interactive</td>\n",
       "      <td>0.12</td>\n",
       "      <td>0.00</td>\n",
       "      <td>0.0</td>\n",
       "      <td>NaN</td>\n",
       "      <td>NaN</td>\n",
       "      <td>tbd</td>\n",
       "      <td>NaN</td>\n",
       "      <td>Dreamcatcher</td>\n",
       "      <td>E</td>\n",
       "    </tr>\n",
       "    <tr>\n",
       "      <th>3</th>\n",
       "      <td>Nitrobike</td>\n",
       "      <td>Wii</td>\n",
       "      <td>2008.0</td>\n",
       "      <td>Racing</td>\n",
       "      <td>Ubisoft</td>\n",
       "      <td>0.11</td>\n",
       "      <td>0.01</td>\n",
       "      <td>0.0</td>\n",
       "      <td>49.0</td>\n",
       "      <td>22.0</td>\n",
       "      <td>7.1</td>\n",
       "      <td>7.0</td>\n",
       "      <td>Left Field Productions</td>\n",
       "      <td>E10+</td>\n",
       "    </tr>\n",
       "    <tr>\n",
       "      <th>4</th>\n",
       "      <td>Cruise Ship Vacation Games</td>\n",
       "      <td>Wii</td>\n",
       "      <td>2009.0</td>\n",
       "      <td>Puzzle</td>\n",
       "      <td>Avanquest</td>\n",
       "      <td>0.12</td>\n",
       "      <td>0.00</td>\n",
       "      <td>0.0</td>\n",
       "      <td>NaN</td>\n",
       "      <td>NaN</td>\n",
       "      <td>tbd</td>\n",
       "      <td>NaN</td>\n",
       "      <td>Activision</td>\n",
       "      <td>E</td>\n",
       "    </tr>\n",
       "    <tr>\n",
       "      <th>...</th>\n",
       "      <td>...</td>\n",
       "      <td>...</td>\n",
       "      <td>...</td>\n",
       "      <td>...</td>\n",
       "      <td>...</td>\n",
       "      <td>...</td>\n",
       "      <td>...</td>\n",
       "      <td>...</td>\n",
       "      <td>...</td>\n",
       "      <td>...</td>\n",
       "      <td>...</td>\n",
       "      <td>...</td>\n",
       "      <td>...</td>\n",
       "      <td>...</td>\n",
       "    </tr>\n",
       "    <tr>\n",
       "      <th>2138</th>\n",
       "      <td>Theresia...</td>\n",
       "      <td>DS</td>\n",
       "      <td>2008.0</td>\n",
       "      <td>Adventure</td>\n",
       "      <td>Arc System Works</td>\n",
       "      <td>0.05</td>\n",
       "      <td>0.00</td>\n",
       "      <td>0.0</td>\n",
       "      <td>61.0</td>\n",
       "      <td>6.0</td>\n",
       "      <td>8</td>\n",
       "      <td>8.0</td>\n",
       "      <td>WorkJam</td>\n",
       "      <td>M</td>\n",
       "    </tr>\n",
       "    <tr>\n",
       "      <th>2139</th>\n",
       "      <td>Sacred 2: Fallen Angel</td>\n",
       "      <td>PC</td>\n",
       "      <td>2008.0</td>\n",
       "      <td>Role-Playing</td>\n",
       "      <td>Ascaron Entertainment GmbH</td>\n",
       "      <td>0.00</td>\n",
       "      <td>0.05</td>\n",
       "      <td>0.0</td>\n",
       "      <td>71.0</td>\n",
       "      <td>41.0</td>\n",
       "      <td>6.9</td>\n",
       "      <td>203.0</td>\n",
       "      <td>Ascaron Entertainment GmbH, Ascaron Entertainment</td>\n",
       "      <td>M</td>\n",
       "    </tr>\n",
       "    <tr>\n",
       "      <th>2140</th>\n",
       "      <td>Dance Sensation!</td>\n",
       "      <td>Wii</td>\n",
       "      <td>2010.0</td>\n",
       "      <td>Misc</td>\n",
       "      <td>Majesco Entertainment</td>\n",
       "      <td>0.06</td>\n",
       "      <td>0.00</td>\n",
       "      <td>0.0</td>\n",
       "      <td>NaN</td>\n",
       "      <td>NaN</td>\n",
       "      <td>NaN</td>\n",
       "      <td>NaN</td>\n",
       "      <td>NaN</td>\n",
       "      <td>NaN</td>\n",
       "    </tr>\n",
       "    <tr>\n",
       "      <th>2141</th>\n",
       "      <td>Adventure Time: The Secret of the Nameless Kin...</td>\n",
       "      <td>X360</td>\n",
       "      <td>2014.0</td>\n",
       "      <td>Action</td>\n",
       "      <td>Little Orbit</td>\n",
       "      <td>0.00</td>\n",
       "      <td>0.05</td>\n",
       "      <td>0.0</td>\n",
       "      <td>58.0</td>\n",
       "      <td>5.0</td>\n",
       "      <td>7.5</td>\n",
       "      <td>4.0</td>\n",
       "      <td>WayForward</td>\n",
       "      <td>E10+</td>\n",
       "    </tr>\n",
       "    <tr>\n",
       "      <th>2142</th>\n",
       "      <td>Teenage Mutant Ninja Turtles 3: Mutant Nightmare</td>\n",
       "      <td>DS</td>\n",
       "      <td>2005.0</td>\n",
       "      <td>Action</td>\n",
       "      <td>Konami Digital Entertainment</td>\n",
       "      <td>0.05</td>\n",
       "      <td>0.00</td>\n",
       "      <td>0.0</td>\n",
       "      <td>58.0</td>\n",
       "      <td>10.0</td>\n",
       "      <td>7</td>\n",
       "      <td>5.0</td>\n",
       "      <td>Konami</td>\n",
       "      <td>E</td>\n",
       "    </tr>\n",
       "  </tbody>\n",
       "</table>\n",
       "<p>2143 rows × 14 columns</p>\n",
       "</div>"
      ],
      "text/plain": [
       "                                                   Name Platform  \\\n",
       "0                                        Nicktoons: MLB     X360   \n",
       "1                 Shonen Jump's One Piece: Grand Battle      PS2   \n",
       "2                                            Learn Math       DS   \n",
       "3                                             Nitrobike      Wii   \n",
       "4                            Cruise Ship Vacation Games      Wii   \n",
       "...                                                 ...      ...   \n",
       "2138                                        Theresia...       DS   \n",
       "2139                             Sacred 2: Fallen Angel       PC   \n",
       "2140                                   Dance Sensation!      Wii   \n",
       "2141  Adventure Time: The Secret of the Nameless Kin...     X360   \n",
       "2142   Teenage Mutant Ninja Turtles 3: Mutant Nightmare       DS   \n",
       "\n",
       "      Year_of_Release         Genre                     Publisher  NA_Sales  \\\n",
       "0              2011.0        Sports          Take-Two Interactive      0.12   \n",
       "1              2005.0      Fighting                         Atari      0.07   \n",
       "2              2009.0        Puzzle      DreamCatcher Interactive      0.12   \n",
       "3              2008.0        Racing                       Ubisoft      0.11   \n",
       "4              2009.0        Puzzle                     Avanquest      0.12   \n",
       "...               ...           ...                           ...       ...   \n",
       "2138           2008.0     Adventure              Arc System Works      0.05   \n",
       "2139           2008.0  Role-Playing    Ascaron Entertainment GmbH      0.00   \n",
       "2140           2010.0          Misc         Majesco Entertainment      0.06   \n",
       "2141           2014.0        Action                  Little Orbit      0.00   \n",
       "2142           2005.0        Action  Konami Digital Entertainment      0.05   \n",
       "\n",
       "      EU_Sales  JP_Sales  Critic_Score  Critic_Count User_Score  User_Count  \\\n",
       "0         0.00       0.0           NaN           NaN        7.6         7.0   \n",
       "1         0.05       0.0           NaN           NaN        NaN         NaN   \n",
       "2         0.00       0.0           NaN           NaN        tbd         NaN   \n",
       "3         0.01       0.0          49.0          22.0        7.1         7.0   \n",
       "4         0.00       0.0           NaN           NaN        tbd         NaN   \n",
       "...        ...       ...           ...           ...        ...         ...   \n",
       "2138      0.00       0.0          61.0           6.0          8         8.0   \n",
       "2139      0.05       0.0          71.0          41.0        6.9       203.0   \n",
       "2140      0.00       0.0           NaN           NaN        NaN         NaN   \n",
       "2141      0.05       0.0          58.0           5.0        7.5         4.0   \n",
       "2142      0.00       0.0          58.0          10.0          7         5.0   \n",
       "\n",
       "                                              Developer Rating  \n",
       "0                                 High Voltage Software      E  \n",
       "1                                                   NaN    NaN  \n",
       "2                                          Dreamcatcher      E  \n",
       "3                                Left Field Productions   E10+  \n",
       "4                                            Activision      E  \n",
       "...                                                 ...    ...  \n",
       "2138                                            WorkJam      M  \n",
       "2139  Ascaron Entertainment GmbH, Ascaron Entertainment      M  \n",
       "2140                                                NaN    NaN  \n",
       "2141                                         WayForward   E10+  \n",
       "2142                                             Konami      E  \n",
       "\n",
       "[2143 rows x 14 columns]"
      ]
     },
     "execution_count": 77,
     "metadata": {},
     "output_type": "execute_result"
    }
   ],
   "source": [
    "df2"
   ]
  },
  {
   "cell_type": "code",
   "execution_count": 78,
   "id": "f8e936e2",
   "metadata": {},
   "outputs": [
    {
     "name": "stdout",
     "output_type": "stream",
     "text": [
      "RMSE 561759.2999344243\n"
     ]
    }
   ],
   "source": [
    "print(\"RMSE\", np.sqrt(np.mean(np.square(y_test-pred_test))))"
   ]
  },
  {
   "cell_type": "code",
   "execution_count": null,
   "id": "ce76bdad",
   "metadata": {},
   "outputs": [],
   "source": []
  },
  {
   "cell_type": "code",
   "execution_count": null,
   "id": "6bc2df80",
   "metadata": {},
   "outputs": [],
   "source": []
  }
 ],
 "metadata": {
  "kernelspec": {
   "display_name": "Python 3 (ipykernel)",
   "language": "python",
   "name": "python3"
  },
  "language_info": {
   "codemirror_mode": {
    "name": "ipython",
    "version": 3
   },
   "file_extension": ".py",
   "mimetype": "text/x-python",
   "name": "python",
   "nbconvert_exporter": "python",
   "pygments_lexer": "ipython3",
   "version": "3.9.7"
  }
 },
 "nbformat": 4,
 "nbformat_minor": 5
}
